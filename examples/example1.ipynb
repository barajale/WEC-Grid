{
 "cells": [
  {
   "cell_type": "markdown",
   "id": "51e350a8",
   "metadata": {},
   "source": [
    "# Example 1: Basic Grid Simulation and Plotting\n",
    "\n",
    "This notebook demonstrates the basic functionality of WEC-GRID:\n",
    "- Loading a power system model\n",
    "- Running a basic simulation\n",
    "- Creating visualizations with the plotting module\n",
    "- Exploring grid state data\n",
    "\n",
    "This example uses the IEEE 14-bus test system for demonstration."
   ]
  },
  {
   "cell_type": "markdown",
   "id": "886c1d7d",
   "metadata": {},
   "source": [
    "## Step 1: Initialize the WEC-GRID Engine\n",
    "\n",
    "The Engine is the core component that manages power system simulations. We'll initialize it with the IEEE 14-bus test system."
   ]
  },
  {
   "cell_type": "code",
   "execution_count": 2,
   "id": "3b001058",
   "metadata": {},
   "outputs": [
    {
     "name": "stdout",
     "output_type": "stream",
     "text": [
      "PyPSA software initialized\n"
     ]
    }
   ],
   "source": [
    "import os\n",
    "import wecgrid\n",
    "\n",
    "engine = wecgrid.Engine()\n",
    "\n",
    "engine.case(\"./grid/IEEE_14_bus.raw\")\n",
    "engine.load([\"pypsa\"])"
   ]
  },
  {
   "cell_type": "markdown",
   "id": "a8ff5df6",
   "metadata": {},
   "source": [
    "## Step 2: Explore the Grid State\n",
    "\n",
    "WEC-GRID uses a unified GridState object to represent power system data across different backends. Let's examine the grid structure."
   ]
  },
  {
   "cell_type": "code",
   "execution_count": 3,
   "id": "8dc80f59",
   "metadata": {},
   "outputs": [
    {
     "data": {
      "text/plain": [
       "GridState:\n",
       "├─ Components:\n",
       "│   ├─ bus:   14 components\n",
       "│   ├─ gen:   5 components\n",
       "│   ├─ line:  17 components\n",
       "│   └─ load:  11 components\n",
       "├─ Time-series Data:\n",
       "│   ├─ bus:   bus, bus_name, type, p, q, v_mag, angle_deg, vbase (1 snapshots)\n",
       "│   ├─ gen:   gen, gen_name, bus, p, q, Mbase, status (1 snapshots)\n",
       "│   ├─ line:  line, line_name, ibus, jbus, line_pct, status (1 snapshots)\n",
       "│   └─ load:  load, load_name, bus, p, q, status (1 snapshots)\n",
       "├─ Case: IEEE 14 bus\n",
       "└─ Backend: PyPSA Modeler"
      ]
     },
     "execution_count": 3,
     "metadata": {},
     "output_type": "execute_result"
    }
   ],
   "source": [
    "grid = engine.pypsa.grid\n",
    "grid"
   ]
  },
  {
   "cell_type": "code",
   "execution_count": 4,
   "id": "c3f2d086",
   "metadata": {},
   "outputs": [
    {
     "data": {
      "text/plain": [
       "dict_keys(['line', 'line_name', 'ibus', 'jbus', 'line_pct', 'status'])"
      ]
     },
     "execution_count": 4,
     "metadata": {},
     "output_type": "execute_result"
    }
   ],
   "source": [
    "grid.line_t.keys()"
   ]
  },
  {
   "cell_type": "code",
   "execution_count": 5,
   "id": "34fe876e",
   "metadata": {},
   "outputs": [
    {
     "data": {
      "application/vnd.microsoft.datawrangler.viewer.v0+json": {
       "columns": [
        {
         "name": "index",
         "rawType": "int64",
         "type": "integer"
        },
        {
         "name": "gen",
         "rawType": "int64",
         "type": "integer"
        },
        {
         "name": "gen_name",
         "rawType": "object",
         "type": "string"
        },
        {
         "name": "bus",
         "rawType": "int64",
         "type": "integer"
        },
        {
         "name": "p",
         "rawType": "float64",
         "type": "float"
        },
        {
         "name": "q",
         "rawType": "float64",
         "type": "float"
        },
        {
         "name": "Mbase",
         "rawType": "float64",
         "type": "float"
        },
        {
         "name": "status",
         "rawType": "int64",
         "type": "integer"
        }
       ],
       "ref": "0f2095df-c42d-4ed5-9964-001d41c92d17",
       "rows": [
        [
         "0",
         "1",
         "Gen_1",
         "1",
         "2.3259999315530884",
         "-0.08724241877529891",
         "0.0",
         "1"
        ],
        [
         "1",
         "2",
         "Gen_2",
         "2",
         "0.4",
         "0.5858429449945359",
         "0.0",
         "1"
        ],
        [
         "2",
         "3",
         "Gen_3",
         "3",
         "0.0",
         "0.31255352885883814",
         "0.0",
         "1"
        ],
        [
         "3",
         "4",
         "Gen_4",
         "6",
         "0.0",
         "0.230034200961411",
         "0.0",
         "1"
        ],
        [
         "4",
         "5",
         "Gen_5",
         "8",
         "0.0",
         "0.25113015168722974",
         "0.0",
         "1"
        ]
       ],
       "shape": {
        "columns": 7,
        "rows": 5
       }
      },
      "text/html": [
       "<div>\n",
       "<style scoped>\n",
       "    .dataframe tbody tr th:only-of-type {\n",
       "        vertical-align: middle;\n",
       "    }\n",
       "\n",
       "    .dataframe tbody tr th {\n",
       "        vertical-align: top;\n",
       "    }\n",
       "\n",
       "    .dataframe thead th {\n",
       "        text-align: right;\n",
       "    }\n",
       "</style>\n",
       "<table border=\"1\" class=\"dataframe\">\n",
       "  <thead>\n",
       "    <tr style=\"text-align: right;\">\n",
       "      <th></th>\n",
       "      <th>gen</th>\n",
       "      <th>gen_name</th>\n",
       "      <th>bus</th>\n",
       "      <th>p</th>\n",
       "      <th>q</th>\n",
       "      <th>Mbase</th>\n",
       "      <th>status</th>\n",
       "    </tr>\n",
       "  </thead>\n",
       "  <tbody>\n",
       "    <tr>\n",
       "      <th>0</th>\n",
       "      <td>1</td>\n",
       "      <td>Gen_1</td>\n",
       "      <td>1</td>\n",
       "      <td>2.326</td>\n",
       "      <td>-0.087242</td>\n",
       "      <td>0.0</td>\n",
       "      <td>1</td>\n",
       "    </tr>\n",
       "    <tr>\n",
       "      <th>1</th>\n",
       "      <td>2</td>\n",
       "      <td>Gen_2</td>\n",
       "      <td>2</td>\n",
       "      <td>0.400</td>\n",
       "      <td>0.585843</td>\n",
       "      <td>0.0</td>\n",
       "      <td>1</td>\n",
       "    </tr>\n",
       "    <tr>\n",
       "      <th>2</th>\n",
       "      <td>3</td>\n",
       "      <td>Gen_3</td>\n",
       "      <td>3</td>\n",
       "      <td>0.000</td>\n",
       "      <td>0.312554</td>\n",
       "      <td>0.0</td>\n",
       "      <td>1</td>\n",
       "    </tr>\n",
       "    <tr>\n",
       "      <th>3</th>\n",
       "      <td>4</td>\n",
       "      <td>Gen_4</td>\n",
       "      <td>6</td>\n",
       "      <td>0.000</td>\n",
       "      <td>0.230034</td>\n",
       "      <td>0.0</td>\n",
       "      <td>1</td>\n",
       "    </tr>\n",
       "    <tr>\n",
       "      <th>4</th>\n",
       "      <td>5</td>\n",
       "      <td>Gen_5</td>\n",
       "      <td>8</td>\n",
       "      <td>0.000</td>\n",
       "      <td>0.251130</td>\n",
       "      <td>0.0</td>\n",
       "      <td>1</td>\n",
       "    </tr>\n",
       "  </tbody>\n",
       "</table>\n",
       "</div>"
      ],
      "text/plain": [
       "   gen gen_name  bus      p         q  Mbase  status\n",
       "0    1    Gen_1    1  2.326 -0.087242    0.0       1\n",
       "1    2    Gen_2    2  0.400  0.585843    0.0       1\n",
       "2    3    Gen_3    3  0.000  0.312554    0.0       1\n",
       "3    4    Gen_4    6  0.000  0.230034    0.0       1\n",
       "4    5    Gen_5    8  0.000  0.251130    0.0       1"
      ]
     },
     "execution_count": 5,
     "metadata": {},
     "output_type": "execute_result"
    }
   ],
   "source": [
    "grid.gen"
   ]
  },
  {
   "cell_type": "code",
   "execution_count": 6,
   "id": "57f833ff",
   "metadata": {},
   "outputs": [
    {
     "data": {
      "application/vnd.microsoft.datawrangler.viewer.v0+json": {
       "columns": [
        {
         "name": "index",
         "rawType": "int64",
         "type": "integer"
        },
        {
         "name": "load",
         "rawType": "int64",
         "type": "integer"
        },
        {
         "name": "load_name",
         "rawType": "object",
         "type": "string"
        },
        {
         "name": "bus",
         "rawType": "int64",
         "type": "integer"
        },
        {
         "name": "p",
         "rawType": "float64",
         "type": "float"
        },
        {
         "name": "q",
         "rawType": "float64",
         "type": "float"
        },
        {
         "name": "status",
         "rawType": "int64",
         "type": "integer"
        }
       ],
       "ref": "498d7da4-4d9b-415d-b10d-3cac59cd4c93",
       "rows": [
        [
         "0",
         "1",
         "Load_1",
         "2",
         "0.217",
         "0.127",
         "1"
        ],
        [
         "1",
         "2",
         "Load_2",
         "3",
         "0.9420000000000001",
         "0.19",
         "1"
        ],
        [
         "2",
         "3",
         "Load_3",
         "4",
         "0.478",
         "-0.039",
         "1"
        ],
        [
         "3",
         "4",
         "Load_4",
         "5",
         "0.076",
         "0.016",
         "1"
        ],
        [
         "4",
         "5",
         "Load_5",
         "6",
         "0.11199999999999999",
         "0.075",
         "1"
        ],
        [
         "5",
         "6",
         "Load_6",
         "9",
         "0.295",
         "0.166",
         "1"
        ],
        [
         "6",
         "7",
         "Load_7",
         "10",
         "0.09",
         "0.057999999999999996",
         "1"
        ],
        [
         "7",
         "8",
         "Load_8",
         "11",
         "0.035",
         "0.018000000000000002",
         "1"
        ],
        [
         "8",
         "9",
         "Load_9",
         "12",
         "0.061",
         "0.016",
         "1"
        ],
        [
         "9",
         "10",
         "Load_10",
         "13",
         "0.135",
         "0.057999999999999996",
         "1"
        ],
        [
         "10",
         "11",
         "Load_11",
         "14",
         "0.149",
         "0.05",
         "1"
        ]
       ],
       "shape": {
        "columns": 6,
        "rows": 11
       }
      },
      "text/html": [
       "<div>\n",
       "<style scoped>\n",
       "    .dataframe tbody tr th:only-of-type {\n",
       "        vertical-align: middle;\n",
       "    }\n",
       "\n",
       "    .dataframe tbody tr th {\n",
       "        vertical-align: top;\n",
       "    }\n",
       "\n",
       "    .dataframe thead th {\n",
       "        text-align: right;\n",
       "    }\n",
       "</style>\n",
       "<table border=\"1\" class=\"dataframe\">\n",
       "  <thead>\n",
       "    <tr style=\"text-align: right;\">\n",
       "      <th></th>\n",
       "      <th>load</th>\n",
       "      <th>load_name</th>\n",
       "      <th>bus</th>\n",
       "      <th>p</th>\n",
       "      <th>q</th>\n",
       "      <th>status</th>\n",
       "    </tr>\n",
       "  </thead>\n",
       "  <tbody>\n",
       "    <tr>\n",
       "      <th>0</th>\n",
       "      <td>1</td>\n",
       "      <td>Load_1</td>\n",
       "      <td>2</td>\n",
       "      <td>0.217</td>\n",
       "      <td>0.127</td>\n",
       "      <td>1</td>\n",
       "    </tr>\n",
       "    <tr>\n",
       "      <th>1</th>\n",
       "      <td>2</td>\n",
       "      <td>Load_2</td>\n",
       "      <td>3</td>\n",
       "      <td>0.942</td>\n",
       "      <td>0.190</td>\n",
       "      <td>1</td>\n",
       "    </tr>\n",
       "    <tr>\n",
       "      <th>2</th>\n",
       "      <td>3</td>\n",
       "      <td>Load_3</td>\n",
       "      <td>4</td>\n",
       "      <td>0.478</td>\n",
       "      <td>-0.039</td>\n",
       "      <td>1</td>\n",
       "    </tr>\n",
       "    <tr>\n",
       "      <th>3</th>\n",
       "      <td>4</td>\n",
       "      <td>Load_4</td>\n",
       "      <td>5</td>\n",
       "      <td>0.076</td>\n",
       "      <td>0.016</td>\n",
       "      <td>1</td>\n",
       "    </tr>\n",
       "    <tr>\n",
       "      <th>4</th>\n",
       "      <td>5</td>\n",
       "      <td>Load_5</td>\n",
       "      <td>6</td>\n",
       "      <td>0.112</td>\n",
       "      <td>0.075</td>\n",
       "      <td>1</td>\n",
       "    </tr>\n",
       "    <tr>\n",
       "      <th>5</th>\n",
       "      <td>6</td>\n",
       "      <td>Load_6</td>\n",
       "      <td>9</td>\n",
       "      <td>0.295</td>\n",
       "      <td>0.166</td>\n",
       "      <td>1</td>\n",
       "    </tr>\n",
       "    <tr>\n",
       "      <th>6</th>\n",
       "      <td>7</td>\n",
       "      <td>Load_7</td>\n",
       "      <td>10</td>\n",
       "      <td>0.090</td>\n",
       "      <td>0.058</td>\n",
       "      <td>1</td>\n",
       "    </tr>\n",
       "    <tr>\n",
       "      <th>7</th>\n",
       "      <td>8</td>\n",
       "      <td>Load_8</td>\n",
       "      <td>11</td>\n",
       "      <td>0.035</td>\n",
       "      <td>0.018</td>\n",
       "      <td>1</td>\n",
       "    </tr>\n",
       "    <tr>\n",
       "      <th>8</th>\n",
       "      <td>9</td>\n",
       "      <td>Load_9</td>\n",
       "      <td>12</td>\n",
       "      <td>0.061</td>\n",
       "      <td>0.016</td>\n",
       "      <td>1</td>\n",
       "    </tr>\n",
       "    <tr>\n",
       "      <th>9</th>\n",
       "      <td>10</td>\n",
       "      <td>Load_10</td>\n",
       "      <td>13</td>\n",
       "      <td>0.135</td>\n",
       "      <td>0.058</td>\n",
       "      <td>1</td>\n",
       "    </tr>\n",
       "    <tr>\n",
       "      <th>10</th>\n",
       "      <td>11</td>\n",
       "      <td>Load_11</td>\n",
       "      <td>14</td>\n",
       "      <td>0.149</td>\n",
       "      <td>0.050</td>\n",
       "      <td>1</td>\n",
       "    </tr>\n",
       "  </tbody>\n",
       "</table>\n",
       "</div>"
      ],
      "text/plain": [
       "    load load_name  bus      p      q  status\n",
       "0      1    Load_1    2  0.217  0.127       1\n",
       "1      2    Load_2    3  0.942  0.190       1\n",
       "2      3    Load_3    4  0.478 -0.039       1\n",
       "3      4    Load_4    5  0.076  0.016       1\n",
       "4      5    Load_5    6  0.112  0.075       1\n",
       "5      6    Load_6    9  0.295  0.166       1\n",
       "6      7    Load_7   10  0.090  0.058       1\n",
       "7      8    Load_8   11  0.035  0.018       1\n",
       "8      9    Load_9   12  0.061  0.016       1\n",
       "9     10   Load_10   13  0.135  0.058       1\n",
       "10    11   Load_11   14  0.149  0.050       1"
      ]
     },
     "execution_count": 6,
     "metadata": {},
     "output_type": "execute_result"
    }
   ],
   "source": [
    "grid.load"
   ]
  },
  {
   "cell_type": "code",
   "execution_count": 7,
   "id": "85fef25d",
   "metadata": {},
   "outputs": [
    {
     "data": {
      "application/vnd.microsoft.datawrangler.viewer.v0+json": {
       "columns": [
        {
         "name": "index",
         "rawType": "int64",
         "type": "integer"
        },
        {
         "name": "line",
         "rawType": "int64",
         "type": "integer"
        },
        {
         "name": "line_name",
         "rawType": "object",
         "type": "string"
        },
        {
         "name": "ibus",
         "rawType": "int64",
         "type": "integer"
        },
        {
         "name": "jbus",
         "rawType": "int64",
         "type": "integer"
        },
        {
         "name": "line_pct",
         "rawType": "float64",
         "type": "float"
        },
        {
         "name": "status",
         "rawType": "int64",
         "type": "integer"
        }
       ],
       "ref": "3f6f1800-d4f9-4320-8b44-d1c73d1d882f",
       "rows": [
        [
         "0",
         "1",
         "Line_1",
         "1",
         "2",
         null,
         "1"
        ],
        [
         "1",
         "2",
         "Line_2",
         "1",
         "5",
         null,
         "1"
        ],
        [
         "2",
         "3",
         "Line_3",
         "2",
         "3",
         null,
         "1"
        ],
        [
         "3",
         "4",
         "Line_4",
         "2",
         "4",
         null,
         "1"
        ],
        [
         "4",
         "5",
         "Line_5",
         "2",
         "5",
         null,
         "1"
        ],
        [
         "5",
         "6",
         "Line_6",
         "3",
         "4",
         null,
         "1"
        ],
        [
         "6",
         "7",
         "Line_7",
         "4",
         "5",
         null,
         "1"
        ],
        [
         "7",
         "8",
         "Line_8",
         "6",
         "11",
         null,
         "1"
        ],
        [
         "8",
         "9",
         "Line_9",
         "6",
         "12",
         null,
         "1"
        ],
        [
         "9",
         "10",
         "Line_10",
         "6",
         "13",
         null,
         "1"
        ],
        [
         "10",
         "11",
         "Line_11",
         "7",
         "8",
         null,
         "1"
        ],
        [
         "11",
         "12",
         "Line_12",
         "7",
         "9",
         null,
         "1"
        ],
        [
         "12",
         "13",
         "Line_13",
         "9",
         "10",
         null,
         "1"
        ],
        [
         "13",
         "14",
         "Line_14",
         "9",
         "14",
         null,
         "1"
        ],
        [
         "14",
         "15",
         "Line_15",
         "10",
         "11",
         null,
         "1"
        ],
        [
         "15",
         "16",
         "Line_16",
         "12",
         "13",
         null,
         "1"
        ],
        [
         "16",
         "17",
         "Line_17",
         "13",
         "14",
         null,
         "1"
        ]
       ],
       "shape": {
        "columns": 6,
        "rows": 17
       }
      },
      "text/html": [
       "<div>\n",
       "<style scoped>\n",
       "    .dataframe tbody tr th:only-of-type {\n",
       "        vertical-align: middle;\n",
       "    }\n",
       "\n",
       "    .dataframe tbody tr th {\n",
       "        vertical-align: top;\n",
       "    }\n",
       "\n",
       "    .dataframe thead th {\n",
       "        text-align: right;\n",
       "    }\n",
       "</style>\n",
       "<table border=\"1\" class=\"dataframe\">\n",
       "  <thead>\n",
       "    <tr style=\"text-align: right;\">\n",
       "      <th></th>\n",
       "      <th>line</th>\n",
       "      <th>line_name</th>\n",
       "      <th>ibus</th>\n",
       "      <th>jbus</th>\n",
       "      <th>line_pct</th>\n",
       "      <th>status</th>\n",
       "    </tr>\n",
       "  </thead>\n",
       "  <tbody>\n",
       "    <tr>\n",
       "      <th>0</th>\n",
       "      <td>1</td>\n",
       "      <td>Line_1</td>\n",
       "      <td>1</td>\n",
       "      <td>2</td>\n",
       "      <td>NaN</td>\n",
       "      <td>1</td>\n",
       "    </tr>\n",
       "    <tr>\n",
       "      <th>1</th>\n",
       "      <td>2</td>\n",
       "      <td>Line_2</td>\n",
       "      <td>1</td>\n",
       "      <td>5</td>\n",
       "      <td>NaN</td>\n",
       "      <td>1</td>\n",
       "    </tr>\n",
       "    <tr>\n",
       "      <th>2</th>\n",
       "      <td>3</td>\n",
       "      <td>Line_3</td>\n",
       "      <td>2</td>\n",
       "      <td>3</td>\n",
       "      <td>NaN</td>\n",
       "      <td>1</td>\n",
       "    </tr>\n",
       "    <tr>\n",
       "      <th>3</th>\n",
       "      <td>4</td>\n",
       "      <td>Line_4</td>\n",
       "      <td>2</td>\n",
       "      <td>4</td>\n",
       "      <td>NaN</td>\n",
       "      <td>1</td>\n",
       "    </tr>\n",
       "    <tr>\n",
       "      <th>4</th>\n",
       "      <td>5</td>\n",
       "      <td>Line_5</td>\n",
       "      <td>2</td>\n",
       "      <td>5</td>\n",
       "      <td>NaN</td>\n",
       "      <td>1</td>\n",
       "    </tr>\n",
       "    <tr>\n",
       "      <th>5</th>\n",
       "      <td>6</td>\n",
       "      <td>Line_6</td>\n",
       "      <td>3</td>\n",
       "      <td>4</td>\n",
       "      <td>NaN</td>\n",
       "      <td>1</td>\n",
       "    </tr>\n",
       "    <tr>\n",
       "      <th>6</th>\n",
       "      <td>7</td>\n",
       "      <td>Line_7</td>\n",
       "      <td>4</td>\n",
       "      <td>5</td>\n",
       "      <td>NaN</td>\n",
       "      <td>1</td>\n",
       "    </tr>\n",
       "    <tr>\n",
       "      <th>7</th>\n",
       "      <td>8</td>\n",
       "      <td>Line_8</td>\n",
       "      <td>6</td>\n",
       "      <td>11</td>\n",
       "      <td>NaN</td>\n",
       "      <td>1</td>\n",
       "    </tr>\n",
       "    <tr>\n",
       "      <th>8</th>\n",
       "      <td>9</td>\n",
       "      <td>Line_9</td>\n",
       "      <td>6</td>\n",
       "      <td>12</td>\n",
       "      <td>NaN</td>\n",
       "      <td>1</td>\n",
       "    </tr>\n",
       "    <tr>\n",
       "      <th>9</th>\n",
       "      <td>10</td>\n",
       "      <td>Line_10</td>\n",
       "      <td>6</td>\n",
       "      <td>13</td>\n",
       "      <td>NaN</td>\n",
       "      <td>1</td>\n",
       "    </tr>\n",
       "    <tr>\n",
       "      <th>10</th>\n",
       "      <td>11</td>\n",
       "      <td>Line_11</td>\n",
       "      <td>7</td>\n",
       "      <td>8</td>\n",
       "      <td>NaN</td>\n",
       "      <td>1</td>\n",
       "    </tr>\n",
       "    <tr>\n",
       "      <th>11</th>\n",
       "      <td>12</td>\n",
       "      <td>Line_12</td>\n",
       "      <td>7</td>\n",
       "      <td>9</td>\n",
       "      <td>NaN</td>\n",
       "      <td>1</td>\n",
       "    </tr>\n",
       "    <tr>\n",
       "      <th>12</th>\n",
       "      <td>13</td>\n",
       "      <td>Line_13</td>\n",
       "      <td>9</td>\n",
       "      <td>10</td>\n",
       "      <td>NaN</td>\n",
       "      <td>1</td>\n",
       "    </tr>\n",
       "    <tr>\n",
       "      <th>13</th>\n",
       "      <td>14</td>\n",
       "      <td>Line_14</td>\n",
       "      <td>9</td>\n",
       "      <td>14</td>\n",
       "      <td>NaN</td>\n",
       "      <td>1</td>\n",
       "    </tr>\n",
       "    <tr>\n",
       "      <th>14</th>\n",
       "      <td>15</td>\n",
       "      <td>Line_15</td>\n",
       "      <td>10</td>\n",
       "      <td>11</td>\n",
       "      <td>NaN</td>\n",
       "      <td>1</td>\n",
       "    </tr>\n",
       "    <tr>\n",
       "      <th>15</th>\n",
       "      <td>16</td>\n",
       "      <td>Line_16</td>\n",
       "      <td>12</td>\n",
       "      <td>13</td>\n",
       "      <td>NaN</td>\n",
       "      <td>1</td>\n",
       "    </tr>\n",
       "    <tr>\n",
       "      <th>16</th>\n",
       "      <td>17</td>\n",
       "      <td>Line_17</td>\n",
       "      <td>13</td>\n",
       "      <td>14</td>\n",
       "      <td>NaN</td>\n",
       "      <td>1</td>\n",
       "    </tr>\n",
       "  </tbody>\n",
       "</table>\n",
       "</div>"
      ],
      "text/plain": [
       "    line line_name  ibus  jbus  line_pct  status\n",
       "0      1    Line_1     1     2       NaN       1\n",
       "1      2    Line_2     1     5       NaN       1\n",
       "2      3    Line_3     2     3       NaN       1\n",
       "3      4    Line_4     2     4       NaN       1\n",
       "4      5    Line_5     2     5       NaN       1\n",
       "5      6    Line_6     3     4       NaN       1\n",
       "6      7    Line_7     4     5       NaN       1\n",
       "7      8    Line_8     6    11       NaN       1\n",
       "8      9    Line_9     6    12       NaN       1\n",
       "9     10   Line_10     6    13       NaN       1\n",
       "10    11   Line_11     7     8       NaN       1\n",
       "11    12   Line_12     7     9       NaN       1\n",
       "12    13   Line_13     9    10       NaN       1\n",
       "13    14   Line_14     9    14       NaN       1\n",
       "14    15   Line_15    10    11       NaN       1\n",
       "15    16   Line_16    12    13       NaN       1\n",
       "16    17   Line_17    13    14       NaN       1"
      ]
     },
     "execution_count": 7,
     "metadata": {},
     "output_type": "execute_result"
    }
   ],
   "source": [
    "grid.line"
   ]
  },
  {
   "cell_type": "code",
   "execution_count": 8,
   "id": "f62bb3c0",
   "metadata": {},
   "outputs": [
    {
     "data": {
      "application/vnd.microsoft.datawrangler.viewer.v0+json": {
       "columns": [
        {
         "name": "index",
         "rawType": "datetime64[ns]",
         "type": "datetime"
        },
        {
         "name": "Bus_1",
         "rawType": "object",
         "type": "string"
        },
        {
         "name": "Bus_2",
         "rawType": "object",
         "type": "string"
        },
        {
         "name": "Bus_3",
         "rawType": "object",
         "type": "string"
        },
        {
         "name": "Bus_4",
         "rawType": "object",
         "type": "string"
        },
        {
         "name": "Bus_5",
         "rawType": "object",
         "type": "string"
        },
        {
         "name": "Bus_6",
         "rawType": "object",
         "type": "string"
        },
        {
         "name": "Bus_7",
         "rawType": "object",
         "type": "string"
        },
        {
         "name": "Bus_8",
         "rawType": "object",
         "type": "string"
        },
        {
         "name": "Bus_9",
         "rawType": "object",
         "type": "string"
        },
        {
         "name": "Bus_10",
         "rawType": "object",
         "type": "string"
        },
        {
         "name": "Bus_11",
         "rawType": "object",
         "type": "string"
        },
        {
         "name": "Bus_12",
         "rawType": "object",
         "type": "string"
        },
        {
         "name": "Bus_13",
         "rawType": "object",
         "type": "string"
        },
        {
         "name": "Bus_14",
         "rawType": "object",
         "type": "string"
        }
       ],
       "ref": "56937217-5390-4d0e-bcf4-df4d777130fa",
       "rows": [
        [
         "2025-08-24 00:00:00",
         "2.3259999315530884",
         "0.183",
         "-0.9420000000000001",
         "-0.478",
         "-0.076",
         "-0.11199999999999999",
         "0.0",
         "0.0",
         "-0.295",
         "-0.09",
         "-0.035",
         "-0.061",
         "-0.135",
         "-0.149"
        ]
       ],
       "shape": {
        "columns": 14,
        "rows": 1
       }
      },
      "text/html": [
       "<div>\n",
       "<style scoped>\n",
       "    .dataframe tbody tr th:only-of-type {\n",
       "        vertical-align: middle;\n",
       "    }\n",
       "\n",
       "    .dataframe tbody tr th {\n",
       "        vertical-align: top;\n",
       "    }\n",
       "\n",
       "    .dataframe thead th {\n",
       "        text-align: right;\n",
       "    }\n",
       "</style>\n",
       "<table border=\"1\" class=\"dataframe\">\n",
       "  <thead>\n",
       "    <tr style=\"text-align: right;\">\n",
       "      <th></th>\n",
       "      <th>Bus_1</th>\n",
       "      <th>Bus_2</th>\n",
       "      <th>Bus_3</th>\n",
       "      <th>Bus_4</th>\n",
       "      <th>Bus_5</th>\n",
       "      <th>Bus_6</th>\n",
       "      <th>Bus_7</th>\n",
       "      <th>Bus_8</th>\n",
       "      <th>Bus_9</th>\n",
       "      <th>Bus_10</th>\n",
       "      <th>Bus_11</th>\n",
       "      <th>Bus_12</th>\n",
       "      <th>Bus_13</th>\n",
       "      <th>Bus_14</th>\n",
       "    </tr>\n",
       "  </thead>\n",
       "  <tbody>\n",
       "    <tr>\n",
       "      <th>2025-08-24</th>\n",
       "      <td>2.326</td>\n",
       "      <td>0.183</td>\n",
       "      <td>-0.942</td>\n",
       "      <td>-0.478</td>\n",
       "      <td>-0.076</td>\n",
       "      <td>-0.112</td>\n",
       "      <td>0.0</td>\n",
       "      <td>0.0</td>\n",
       "      <td>-0.295</td>\n",
       "      <td>-0.09</td>\n",
       "      <td>-0.035</td>\n",
       "      <td>-0.061</td>\n",
       "      <td>-0.135</td>\n",
       "      <td>-0.149</td>\n",
       "    </tr>\n",
       "  </tbody>\n",
       "</table>\n",
       "</div>"
      ],
      "text/plain": [
       "            Bus_1  Bus_2  Bus_3  Bus_4  Bus_5  Bus_6 Bus_7 Bus_8  Bus_9  \\\n",
       "2025-08-24  2.326  0.183 -0.942 -0.478 -0.076 -0.112   0.0   0.0 -0.295   \n",
       "\n",
       "           Bus_10 Bus_11 Bus_12 Bus_13 Bus_14  \n",
       "2025-08-24  -0.09 -0.035 -0.061 -0.135 -0.149  "
      ]
     },
     "execution_count": 8,
     "metadata": {},
     "output_type": "execute_result"
    }
   ],
   "source": [
    "grid.bus_t.p"
   ]
  },
  {
   "cell_type": "markdown",
   "id": "92a070bc",
   "metadata": {},
   "source": [
    "## Step 3: Run a Basic Steady State Power Flow Simulation.\n",
    "\n",
    "Now let's run a power flow simulation to solve the grid state and analyze the results with a load."
   ]
  },
  {
   "cell_type": "code",
   "execution_count": 9,
   "id": "4ad6448b",
   "metadata": {},
   "outputs": [],
   "source": [
    "engine.simulate(\n",
    "    load_curve=True,\n",
    "    num_steps=288 # 1 day of 5 min intervals \n",
    ")"
   ]
  },
  {
   "cell_type": "markdown",
   "id": "f2750531",
   "metadata": {},
   "source": [
    "## Step 4: Visualize the Grid with WEC-GRID Plotting\n",
    "\n",
    "The WECGridPlot module provides powerful visualization capabilities including single-line diagrams, time series plots, and more."
   ]
  },
  {
   "cell_type": "code",
   "execution_count": 9,
   "id": "d7e9f5a0",
   "metadata": {},
   "outputs": [],
   "source": [
    "plot = engine.plot"
   ]
  },
  {
   "cell_type": "code",
   "execution_count": 10,
   "id": "c260cdd7",
   "metadata": {},
   "outputs": [
    {
     "data": {
      "image/png": "[encoded data removed]",
      "text/plain": [
       "<Figure size 1200x600 with 1 Axes>"
      ]
     },
     "metadata": {},
     "output_type": "display_data"
    },
    {
     "data": {
      "text/plain": [
       "(<Figure size 1200x600 with 1 Axes>,\n",
       " <AxesSubplot:title={'center':'PYPSA: Bus Active Power (net)'}, xlabel='Time', ylabel='Active Power [pu]'>)"
      ]
     },
     "execution_count": 10,
     "metadata": {},
     "output_type": "execute_result"
    }
   ],
   "source": [
    "plot.bus()"
   ]
  },
  {
   "cell_type": "code",
   "execution_count": 11,
   "metadata": {},
   "outputs": [
    {
     "data": {
      "image/png": "[encoded data removed]",
      "text/plain": [
       "<Figure size 1200x600 with 1 Axes>"
      ]
     },
     "metadata": {},
     "output_type": "display_data"
    },
    {
     "data": {
      "text/plain": [
       "(<Figure size 1200x600 with 1 Axes>,\n",
       " <AxesSubplot:title={'center':'PYPSA: Generator Active Power'}, xlabel='Time', ylabel='Active Power [pu]'>)"
      ]
     },
     "execution_count": 11,
     "metadata": {},
     "output_type": "execute_result"
    }
   ],
   "source": [
    "plot.gen()"
   ]
  },
  {
   "cell_type": "code",
   "execution_count": 12,
   "id": "8f2f7cb4",
   "metadata": {},
   "outputs": [
    {
     "data": {
      "image/png": "[encoded data removed]",
      "text/plain": [
       "<Figure size 1200x600 with 1 Axes>"
      ]
     },
     "metadata": {},
     "output_type": "display_data"
    },
    {
     "data": {
      "text/plain": [
       "(<Figure size 1200x600 with 1 Axes>,\n",
       " <AxesSubplot:title={'center':'PYPSA: Load Active Power'}, xlabel='Time', ylabel='Active Power [pu]'>)"
      ]
     },
     "execution_count": 12,
     "metadata": {},
     "output_type": "execute_result"
    }
   ],
   "source": [
    "plot.load()"
   ]
  },
  {
   "cell_type": "code",
   "execution_count": null,
   "id": "cf5707c1",
   "metadata": {},
   "outputs": [],
   "source": []
  },
  {
   "cell_type": "code",
   "execution_count": null,
   "id": "16e947d9",
   "metadata": {},
   "outputs": [],
   "source": []
  },
  {
   "cell_type": "code",
   "execution_count": null,
   "id": "d52bad05",
   "metadata": {},
   "outputs": [],
   "source": []
  }
 ],
 "metadata": {
  "kernelspec": {
   "display_name": "wecgrid_venv",
   "language": "python",
   "name": "python3"
  },
  "language_info": {
   "codemirror_mode": {
    "name": "ipython",
    "version": 3
   },
   "file_extension": ".py",
   "mimetype": "text/x-python",
   "name": "python",
   "nbconvert_exporter": "python",
   "pygments_lexer": "ipython3",
   "version": "3.10.13"
  }
 },
 "nbformat": 4,
 "nbformat_minor": 5
}
