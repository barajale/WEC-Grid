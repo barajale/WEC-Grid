{
 "cells": [
  {
   "cell_type": "code",
   "execution_count": null,
   "id": "c3f64240",
   "metadata": {},
   "outputs": [],
   "source": [
    "# small case, single farm "
   ]
  },
  {
   "cell_type": "code",
   "execution_count": null,
   "id": "43078044",
   "metadata": {},
   "outputs": [],
   "source": [
    "import os\n",
    "import wecgrid\n",
    "\n",
    "wec_grid = wecgrid.Engine()"
   ]
  },
  {
   "cell_type": "code",
   "execution_count": null,
   "id": "d4836bd7",
   "metadata": {},
   "outputs": [],
   "source": [
    "wec_grid.case(f\"{os.getcwd()}/../data/grid_models/IEEE_14_bus.raw\")\n",
    "wec_grid.load([\"pypsa\"])"
   ]
  },
  {
   "cell_type": "code",
   "execution_count": null,
   "id": "94d79ed9",
   "metadata": {},
   "outputs": [],
   "source": []
  },
  {
   "cell_type": "code",
   "execution_count": null,
   "metadata": {},
   "outputs": [],
   "source": []
  },
  {
   "cell_type": "code",
   "execution_count": null,
   "id": "ac6e23e9",
   "metadata": {},
   "outputs": [],
   "source": []
  },
  {
   "cell_type": "code",
   "execution_count": null,
   "metadata": {},
   "outputs": [],
   "source": []
  }
 ],
 "metadata": {
  "language_info": {
   "name": "python"
  }
 },
 "nbformat": 4,
 "nbformat_minor": 5
}
