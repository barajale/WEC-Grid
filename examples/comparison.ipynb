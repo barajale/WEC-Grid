{
 "cells": [
  {
   "cell_type": "code",
   "execution_count": null,
   "id": "467e102f",
   "metadata": {},
   "outputs": [],
   "source": [
    "# compare psse and pypsa"
   ]
  },
  {
   "cell_type": "code",
   "execution_count": null,
   "id": "6f48df21",
   "metadata": {},
   "outputs": [],
   "source": [
    "import os\n",
    "import wecgrid\n",
    "\n",
    "wec_grid = wecgrid.Engine()"
   ]
  },
  {
   "cell_type": "code",
   "execution_count": null,
   "id": "2b9a6bac",
   "metadata": {},
   "outputs": [],
   "source": [
    "wec_grid.case(f\"{os.getcwd()}/../data/grid_models/IEEE_30_bus.raw\")\n",
    "wec_grid.load([\"psse\",\"pypsa\"])"
   ]
  },
  {
   "cell_type": "code",
   "execution_count": null,
   "id": "05315f34",
   "metadata": {},
   "outputs": [],
   "source": []
  },
  {
   "cell_type": "code",
   "execution_count": null,
   "id": "5a8f21c4",
   "metadata": {},
   "outputs": [],
   "source": []
  }
 ],
 "metadata": {
  "language_info": {
   "name": "python"
  }
 },
 "nbformat": 4,
 "nbformat_minor": 5
}
