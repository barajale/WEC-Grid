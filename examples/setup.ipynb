{
 "cells": [
  {
   "cell_type": "markdown",
   "id": "ef0593de",
   "metadata": {},
   "source": [
    "# WEC-GRID Setup and Configuration Guide\n",
    "\n",
    "This notebook helps you verify that WEC-GRID is properly installed and configured on your system. \n",
    "\n",
    "*note* WECSim, MATLAB Engine, and PSS/E are optional \n",
    "\n",
    "## Setup Process:\n",
    "1. Test core WEC-GRID functionality\n",
    "2. Set WEC-GRID database \n",
    "3. Configure WEC-Sim / MATLAB\n",
    "4. PSS/E Configuration"
   ]
  },
  {
   "cell_type": "markdown",
   "id": "1383310c",
   "metadata": {},
   "source": [
    "## 1. Test Core WEC-GRID Functionality\n",
    "\n",
    "First, let's verify that WEC-GRID can be imported and the core functionality works.\n",
    "\n",
    "You can also try running from project root using this command -\n",
    "```bash\n",
    "pytest test/test_wecgrid.py -v\n",
    "```"
   ]
  },
  {
   "cell_type": "code",
   "execution_count": 2,
   "id": "91dbb82f",
   "metadata": {},
   "outputs": [
    {
     "name": "stderr",
     "output_type": "stream",
     "text": [
      "'pytest' is not recognized as an internal or external command,\n",
      "operable program or batch file.\n"
     ]
    }
   ],
   "source": [
    "!pytest ../test/test_wecgrid.py -v"
   ]
  },
  {
   "cell_type": "markdown",
   "id": "a16ddd7b",
   "metadata": {},
   "source": [
    "---"
   ]
  },
  {
   "cell_type": "markdown",
   "id": "b02a66f8",
   "metadata": {},
   "source": [
    "## 2. WEC-Grid Database\n",
    "\n",
    "To set up a WEC-GRID database, you'll need to point WEC-Grid to the `WECGrid.db` file, or whatever database file you choose. A preloaded database is included in the examples folder.\n"
   ]
  },
  {
   "cell_type": "code",
   "execution_count": 2,
   "id": "8b027cc2",
   "metadata": {},
   "outputs": [
    {
     "name": "stdout",
     "output_type": "stream",
     "text": [
      "Database path updated: c:\\Users\\alexb\\research\\WEC-GRID\\examples\\WECGrid.db\n"
     ]
    },
    {
     "data": {
      "text/plain": [
       "'c:\\\\Users\\\\alexb\\\\research\\\\WEC-GRID\\\\examples\\\\WECGrid.db'"
      ]
     },
     "execution_count": 2,
     "metadata": {},
     "output_type": "execute_result"
    }
   ],
   "source": [
    "import wecgrid\n",
    "\n",
    "setup = wecgrid.Engine()\n",
    "\n",
    "# Set the database path\n",
    "setup.database.set_database_path(\"./WECGrid.db\")"
   ]
  },
  {
   "cell_type": "markdown",
   "id": "4dc11838",
   "metadata": {},
   "source": [
    "### 2.1 New Database\n",
    "You can intialize an empty and properly set up database for WEC-Grid using the following example code:\n",
    "```python\n",
    "import wecgrid\n",
    "setup = wecgrid.Engine()\n",
    "setup.database.initialize_database(\"path/to/database.db\")\n",
    "```"
   ]
  },
  {
   "cell_type": "markdown",
   "id": "8d843a07",
   "metadata": {},
   "source": [
    "---"
   ]
  },
  {
   "cell_type": "markdown",
   "id": "a2ec347c",
   "metadata": {},
   "source": [
    "## 3. Configure WEC-Sim / MATLAB\n",
    "\n",
    "if you're using MATLAB / WEC-SIM you'll to ensure the MATLAB / Python API is configured correctly on system / enviroment."
   ]
  },
  {
   "cell_type": "markdown",
   "id": "3adddc3d",
   "metadata": {},
   "source": [
    "### 3.1 MATLAB / Python API\n",
    "\n",
    "The MATLAB / Python API needs to be installed locally using your MATLAB install. WEC-Grid is current using python verison 3.7 which is compatiable with Matlab 2021b \n",
    "\n",
    "Offical instuctions can be found at: https://www.mathworks.com/help/matlab/matlab_external/install-the-matlab-engine-for-python.html\n",
    "\n",
    "example commands:\n",
    "\n",
    "```bash\n",
    "cd \"C:\\Program Files\\MATLAB\\R2021b\\extern\\engines\\python\"\n",
    "python -m pip install .\n",
    "\n",
    "```"
   ]
  },
  {
   "cell_type": "markdown",
   "id": "ad2e84e6",
   "metadata": {},
   "source": [
    "### 3.2 WEC-Sim Configuration\n",
    "\n",
    "#### WEC-Sim installation:\n",
    " - GitHub: https://github.com/WEC-Sim/WEC-Sim\n",
    " - Documentation: https://wec-sim.github.io/WEC-Sim/main/index.html\n",
    " - Install guide: https://wec-sim.github.io/WEC-Sim/main/user/getting_started.html\n",
    "\n",
    "\n",
    "example code:\n",
    "```python \n",
    "import wecgrid\n",
    "setup = wecgrid.Engine()\n",
    "setup.wecsim.set_wec_sim_path(\"path/to/wec-sim\")\n",
    "\n",
    "```"
   ]
  },
  {
   "cell_type": "markdown",
   "id": "14766c72",
   "metadata": {},
   "source": [
    "### 3.3 Run a test\n",
    "\n",
    "After adding the MATLAB API and setting the WEC-Sim path in WEC-Grid you can check if it worked."
   ]
  },
  {
   "cell_type": "code",
   "execution_count": 3,
   "id": "3e0b70b4",
   "metadata": {},
   "outputs": [
    {
     "name": "stdout",
     "output_type": "stream",
     "text": [
      "============================= test session starts =============================\n",
      "platform win32 -- Python 3.7.1, pytest-7.1.2, pluggy-1.0.0 -- C:\\Users\\alexb\\miniconda3\\envs\\happy\\python.exe\n",
      "cachedir: .pytest_cache\n",
      "rootdir: c:\\Users\\alexb\\research\\WEC-GRID, configfile: pytest.ini\n",
      "plugins: anyio-3.5.0, dash-2.18.2, cov-3.0.0, mock-3.10.0\n",
      "collecting ... collected 1 item\n",
      "\n",
      "..\\test\\test_matlab.py::test_matlab PASSED                               [100%]\n",
      "\n",
      "============================== 1 passed in 0.09s ==============================\n"
     ]
    }
   ],
   "source": [
    "!pytest ../test/test_matlab.py -v "
   ]
  },
  {
   "cell_type": "code",
   "execution_count": 4,
   "id": "c44592fc",
   "metadata": {},
   "outputs": [
    {
     "name": "stdout",
     "output_type": "stream",
     "text": [
      "============================= test session starts =============================\n",
      "platform win32 -- Python 3.7.1, pytest-7.1.2, pluggy-1.0.0 -- C:\\Users\\alexb\\miniconda3\\envs\\happy\\python.exe\n",
      "cachedir: .pytest_cache\n",
      "rootdir: c:\\Users\\alexb\\research\\WEC-GRID, configfile: pytest.ini\n",
      "plugins: anyio-3.5.0, dash-2.18.2, cov-3.0.0, mock-3.10.0\n",
      "collecting ... collected 3 items\n",
      "\n",
      "..\\test\\test_wecsim.py::test_matlab PASSED                               [ 33%]\n",
      "..\\test\\test_wecsim.py::test_wecsim PASSED                               [ 66%]\n",
      "..\\test\\test_wecsim.py::test_wecsim_run_from_sim PASSED                  [100%]\n",
      "\n",
      "======================== 3 passed in 140.21s (0:02:20) ========================\n"
     ]
    },
    {
     "name": "stderr",
     "output_type": "stream",
     "text": [
      "Windows fatal exception: code 0xc0000139\n",
      "\n",
      "Thread 0x00001a14 (most recent call first):\n",
      "  File \"<frozen importlib._bootstrap>\", line 219 in _call_with_frames_removed\n",
      "  File \"<frozen importlib._bootstrap_external>\", line 1043 in create_module\n",
      "Windows fatal exception:   File code 0x\"c0000139<\n",
      "\n",
      "frozen importlib._bootstrap>\", line 583 in module_from_spec\n",
      "  File \"<frozen importlib._bootstrap>\", line 670 in _load_unlocked\n",
      "  File \"<frozen importlib._bootstrap>\", line 967 in _find_and_load_unlocked\n",
      "  File \"<frozen importlib._bootstrap>\", line 983 in _find_and_load\n",
      "  File \"C:\\Users\\alexb\\miniconda3\\envs\\happy\\lib\\site-packages\\netCDF4\\__init__.py\", line 3 in <module>\n",
      "  File \"<frozen importlib._bootstrap>\", line 219 in _call_with_frames_removed\n",
      "  File \"<frozen importlib._bootstrap_external>\", line 728 in exec_module\n",
      "  File \"<frozen importlib._bootstrap>\", line 677 in _load_unlocked\n",
      "  File \"<frozen importlib._bootstrap>\", line 967 in _find_and_load_unlocked\n",
      "  File \"<frozen importlib._bootstrap>\", line 983 in _find_and_load\n",
      "  File \"C:\\Users\\alexb\\miniconda3\\envs\\happy\\lib\\site-packages\\xarray\\backends\\netCDF4_.py\", line 33 in <module>\n",
      "  File \"<frozen importlib._bootstrap>\", line 219 in _call_with_frames_removed\n",
      "  File \"<frozen importlib._bootstrap_external>\", line 728 in exec_module\n",
      "  File \"<frozen importlib._bootstrap>\", line 677 in _load_unlocked\n",
      "  File \"<frozen importlib._bootstrap>\", line 967 in _find_and_load_unlocked\n",
      "  File \"<frozen importlib._bootstrap>\", line 983 in _find_and_load\n",
      "  File \"C:\\Users\\alexb\\miniconda3\\envs\\happy\\lib\\site-packages\\xarray\\backends\\h5netcdf_.py\", line 25 in <module>\n",
      "  File \"<frozen importlib._bootstrap>\", line 219 in _call_with_frames_removed\n",
      "  File \"<frozen importlib._bootstrap_external>\", line 728 in exec_module\n",
      "  File \"<frozen importlib._bootstrap>\", line 677 in _load_unlocked\n",
      "  File \"<frozen importlib._bootstrap>\", line 967 in _find_and_load_unlocked\n",
      "  File \"<frozen importlib._bootstrap>\", line 983 in _find_and_load\n",
      "  File \"C:\\Users\\alexb\\miniconda3\\envs\\happy\\lib\\site-packages\\xarray\\backends\\__init__.py\", line 9 in <module>\n",
      "  File \"<frozen importlib._bootstrap>\", line 219 in _call_with_frames_removed\n",
      "  File \"<frozen importlib._bootstrap_external>\", line 728 in exec_module\n",
      "  File \"<frozen importlib._bootstrap>\", line 677 in _load_unlocked\n",
      "  File \"<frozen importlib._bootstrap>\", line 967 in _find_and_load_unlocked\n",
      "  File \"<frozen importlib._bootstrap>\", line 983 in _find_and_load\n",
      "  File \"<frozen importlib._bootstrap>\", line 219 in _call_with_frames_removed\n",
      "  File \"<frozen importlib._bootstrap>\", line 953 in _find_and_load_unlocked\n",
      "  File \"<frozen importlib._bootstrap>\", line 983 in _find_and_load\n",
      "  File \"C:\\Users\\alexb\\miniconda3\\envs\\happy\\lib\\site-packages\\xarray\\tutorial.py\", line 13 in <module>\n",
      "  File \"<frozen importlib._bootstrap>\", line 219 in _call_with_frames_removed\n",
      "  File \"<frozen importlib._bootstrap_external>\", line 728 in exec_module\n",
      "  File \"<frozen importlib._bootstrap>\", line 677 in _load_unlocked\n",
      "  File \"<frozen importlib._bootstrap>\", line 967 in _find_and_load_unlocked\n",
      "  File \"<frozen importlib._bootstrap>\", line 983 in _find_and_load\n",
      "  File \"<frozen importlib._bootstrap>\", line 219 in _call_with_frames_removed\n",
      "  File \"<frozen importlib._bootstrap>\", line 1035 in _handle_fromlist\n",
      "  File \"C:\\Users\\alexb\\miniconda3\\envs\\happy\\lib\\site-packages\\xarray\\__init__.py\", line 1 in <module>\n",
      "  File \"<frozen importlib._bootstrap>\", line 219 in _call_with_frames_removed\n",
      "  File \"<frozen importlib._bootstrap_external>\", line 728 in exec_module\n",
      "  File \"<frozen importlib._bootstrap>\", line 677 in _load_unlocked\n",
      "  File \"<frozen importlib._bootstrap>\", line 967 in _find_and_load_unlocked\n",
      "  File \"<frozen importlib._bootstrap>\", line 983 in _find_and_load\n",
      "  File \"C:\\Users\\alexb\\miniconda3\\envs\\happy\\lib\\site-packages\\pypsa\\io.py\", line 30 in <module>\n",
      "  File \"<frozen importlib._bootstrap>\", line 219 in _call_with_frames_removed\n",
      "  File \"<frozen importlib._bootstrap_external>\", line 728 in exec_module\n",
      "  File \"<frozen importlib._bootstrap>\", line 677 in _load_unlocked\n",
      "  File \"<frozen importlib._bootstrap>\", line 967 in _find_and_load_unlocked\n",
      "  File \"<frozen importlib._bootstrap>\", line 983 in _find_and_load\n",
      "  File \"C:\\Users\\alexb\\miniconda3\\envs\\happy\\lib\\site-packages\\pypsa\\components.py\", line 37 in <module>\n",
      "  File \"<frozen importlib._bootstrap>\", line 219 in _call_with_frames_removed\n",
      "  File \"<frozen importlib._bootstrap_external>\", line 728 in exec_module\n",
      "  File \"<frozen importlib._bootstrap>\", line 677 in _load_unlocked\n",
      "  File \"<frozen importlib._bootstrap>\", line 967 in _find_and_load_unlocked\n",
      "  File \"<frozen importlib._bootstrap>\", line 983 in _find_and_load\n",
      "  File \"<frozen importlib._bootstrap>\", line 219 in _call_with_frames_removed\n",
      "  File \"<frozen importlib._bootstrap>\", line 1035 in _handle_fromlist\n",
      "  File \"C:\\Users\\alexb\\miniconda3\\envs\\happy\\lib\\site-packages\\pypsa\\__init__.py\", line 10 in <module>\n",
      "  File \"<frozen importlib._bootstrap>\", line 219 in _call_with_frames_removed\n",
      "  File \"<frozen importlib._bootstrap_external>\", line 728 in exec_module\n",
      "  File \"<frozen importlib._bootstrap>\", line 677 in _load_unlocked\n",
      "  File \"<frozen importlib._bootstrap>\", line 967 in _find_and_load_unlocked\n",
      "  File \"<frozen importlib._bootstrap>\", line 983 in _find_and_load\n",
      "  File \"C:\\Users\\alexb\\research\\WEC-GRID\\src\\wecgrid\\modelers\\power_system\\pypsa.py\", line 21 in <module>\n",
      "  File \"<frozen importlib._bootstrap>\", line 219 in _call_with_frames_removed\n",
      "  File \"<frozen importlib._bootstrap_external>\", line 728 in exec_module\n",
      "  File \"<frozen importlib._bootstrap>\", line 677 in _load_unlocked\n",
      "  File \"<frozen importlib._bootstrap>\", line 967 in _find_and_load_unlocked\n",
      "  File \"<frozen importlib._bootstrap>\", line 983 in _find_and_load\n",
      "  File \"C:\\Users\\alexb\\research\\WEC-GRID\\src\\wecgrid\\modelers\\power_system\\__init__.py\", line 7 in <module>\n",
      "  File \"<frozen importlib._bootstrap>\", line 219 in _call_with_frames_removed\n",
      "  File \"<frozen importlib._bootstrap_external>\", line 728 in exec_module\n",
      "  File \"<frozen importlib._bootstrap>\", line 677 in _load_unlocked\n",
      "  File \"<frozen importlib._bootstrap>\", line 967 in _find_and_load_unlocked\n",
      "  File \"<frozen importlib._bootstrap>\", line 983 in _find_and_load\n",
      "  File \"<frozen importlib._bootstrap>\", line 219 in _call_with_frames_removed\n",
      "  File \"<frozen importlib._bootstrap>\", line 953 in _find_and_load_unlocked\n",
      "  File \"<frozen importlib._bootstrap>\", line 983 in _find_and_load\n",
      "  File \"C:\\Users\\alexb\\research\\WEC-GRID\\src\\wecgrid\\modelers\\__init__.py\", line 5 in <module>\n",
      "  File \"<frozen importlib._bootstrap>\", line 219 in _call_with_frames_removed\n",
      "  File \"<frozen importlib._bootstrap_external>\", line 728 in exec_module\n",
      "  File \"<frozen importlib._bootstrap>\", line 677 in _load_unlocked\n",
      "  File \"<frozen importlib._bootstrap>\", line 967 in _find_and_load_unlocked\n",
      "  File \"<frozen importlib._bootstrap>\", line 983 in _find_and_load\n",
      "  File \"C:\\Users\\alexb\\research\\WEC-GRID\\src\\wecgrid\\engine.py\", line 14 in <module>\n",
      "  File \"<frozen importlib._bootstrap>\", line 219 in _call_with_frames_removed\n",
      "  File \"<frozen importlib._bootstrap_external>\", line 728 in exec_module\n",
      "  File \"<frozen importlib._bootstrap>\", line 677 in _load_unlocked\n",
      "  File \"<frozen importlib._bootstrap>\", line 967 in _find_and_load_unlocked\n",
      "  File \"<frozen importlib._bootstrap>\", line 983 in _find_and_load\n",
      "  File \"C:\\Users\\alexb\\research\\WEC-GRID\\src\\wecgrid\\__init__.py\", line 10 in <module>\n",
      "  File \"<frozen importlib._bootstrap>\", line 219 in _call_with_frames_removed\n",
      "  File \"<frozen importlib._bootstrap_external>\", line 728 in exec_module\n",
      "  File \"<frozen importlib._bootstrap>\", line 677 in _load_unlocked\n",
      "  File \"<frozen importlib._bootstrap>\", line 967 in _find_and_load_unlocked\n",
      "  File \"<frozen importlib._bootstrap>\", line 983 in _find_and_load\n",
      "  ...\n",
      "Windows fatal exception: code 0xc0000139\n",
      "\n",
      "Thread 0x00001a14 (most recent call first):\n",
      "  File \"<frozen impoWindows fatal exception: code 0xc0000139\n",
      "\n",
      "rtlib._bootstrap>\", line 219 in _call_with_frames_removed\n",
      "  File \"<frozen importlib._bootstrap_external>\", line 1043 in create_module\n",
      "  File \"<frozen importlib._bootstrap>\", line 583 in module_from_spec\n",
      "  File \"<frozen importlib._bootstrap>\", line 670 in _load_unlocked\n",
      "  File \"<frozen importlib._bootstrap>\", line 967 in _find_and_load_unlocked\n",
      "  File \"<frozen importlib._bootstrap>\", line 983 in _find_and_load\n",
      "  File \"C:\\Users\\alexb\\miniconda3\\envs\\happy\\lib\\site-packages\\cartopy\\crs.py\", line 36 in <module>\n",
      "  File \"<frozen importlib._bootstrap>\", line 219 in _call_with_frames_removed\n",
      "  File \"<frozen importlib._bootstrap_external>\", line 728 in exec_module\n",
      "  File \"<frozen importlib._bootstrap>\", line 677 in _load_unlocked\n",
      "  File \"<frozen importlib._bootstrap>\", line 967 in _find_and_load_unlocked\n",
      "  File \"<frozen importlib._bootstrap>\", line 983 in _find_and_load\n",
      "  File \"C:\\Users\\alexb\\miniconda3\\envs\\happy\\lib\\site-packages\\cartopy\\__init__.py\", line 96 in <module>\n",
      "  File \"<frozen importlib._bootstrap>\", line 219 in _call_with_frames_removed\n",
      "  File \"<frozen importlib._bootstrap_external>\", line 728 in exec_module\n",
      "  File \"<frozen importlib._bootstrap>\", line 677 in _load_unlocked\n",
      "  File \"<frozen importlib._bootstrap>\", line 967 in _find_and_load_unlocked\n",
      "  File \"<frozen importlib._bootstrap>\", line 983 in _find_and_load\n",
      "  File \"C:\\Users\\alexb\\miniconda3\\envs\\happy\\lib\\site-packages\\pypsa\\plot.py\", line 30 in <module>\n",
      "  File \"<frozen importlib._bootstrap>\", line 219 in _call_with_frames_removed\n",
      "  File \"<frozen importlib._bootstrap_external>\", line 728 in exec_module\n",
      "  File \"<frozen importlib._bootstrap>\", line 677 in _load_unlocked\n",
      "  File \"<frozen importlib._bootstrap>\", line 967 in _find_and_load_unlocked\n",
      "  File \"<frozen importlib._bootstrap>\", line 983 in _find_and_load\n",
      "  File \"C:\\Users\\alexb\\miniconda3\\envs\\happy\\lib\\site-packages\\pypsa\\components.py\", line 63 in <module>\n",
      "  File \"<frozen importlib._bootstrap>\", line 219 in _call_with_frames_removed\n",
      "  File \"<frozen importlib._bootstrap_external>\", line 728 in exec_module\n",
      "  File \"<frozen importlib._bootstrap>\", line 677 in _load_unlocked\n",
      "  File \"<frozen importlib._bootstrap>\", line 967 in _find_and_load_unlocked\n",
      "  File \"<frozen importlib._bootstrap>\", line 983 in _find_and_load\n",
      "  File \"<frozen importlib._bootstrap>\", line 219 in _call_with_frames_removed\n",
      "  File \"<frozen importlib._bootstrap>\", line 1035 in _handle_fromlist\n",
      "  File \"C:\\Users\\alexb\\miniconda3\\envs\\happy\\lib\\site-packages\\pypsa\\__init__.py\", line 10 in <module>\n",
      "  File \"<frozen importlib._bootstrap>\", line 219 in _call_with_frames_removed\n",
      "  File \"<frozen importlib._bootstrap_external>\", line 728 in exec_module\n",
      "  File \"<frozen importlib._bootstrap>\", line 677 in _load_unlocked\n",
      "  File \"<frozen importlib._bootstrap>\", line 967 in _find_and_load_unlocked\n",
      "  File \"<frozen importlib._bootstrap>\", line 983 in _find_and_load\n",
      "  File \"C:\\Users\\alexb\\research\\WEC-GRID\\src\\wecgrid\\modelers\\power_system\\pypsa.py\", line 21 in <module>\n",
      "  File \"<frozen importlib._bootstrap>\", line 219 in _call_with_frames_removed\n",
      "  File \"<frozen importlib._bootstrap_external>\", line 728 in exec_module\n",
      "  File \"<frozen importlib._bootstrap>\", line 677 in _load_unlocked\n",
      "  File \"<frozen importlib._bootstrap>\", line 967 in _find_and_load_unlocked\n",
      "  File \"<frozen importlib._bootstrap>\", line 983 in _find_and_load\n",
      "  File \"C:\\Users\\alexb\\research\\WEC-GRID\\src\\wecgrid\\modelers\\power_system\\__init__.py\", line 7 in <module>\n",
      "  File \"<frozen importlib._bootstrap>\", line 219 in _call_with_frames_removed\n",
      "  File \"<frozen importlib._bootstrap_external>\", line 728 in exec_module\n",
      "  File \"<frozen importlib._bootstrap>\", line 677 in _load_unlocked\n",
      "  File \"<frozen importlib._bootstrap>\", line 967 in _find_and_load_unlocked\n",
      "  File \"<frozen importlib._bootstrap>\", line 983 in _find_and_load\n",
      "  File \"<frozen importlib._bootstrap>\", line 219 in _call_with_frames_removed\n",
      "  File \"<frozen importlib._bootstrap>\", line 953 in _find_and_load_unlocked\n",
      "  File \"<frozen importlib._bootstrap>\", line 983 in _find_and_load\n",
      "  File \"C:\\Users\\alexb\\research\\WEC-GRID\\src\\wecgrid\\modelers\\__init__.py\", line 5 in <module>\n",
      "  File \"<frozen importlib._bootstrap>\", line 219 in _call_with_frames_removed\n",
      "  File \"<frozen importlib._bootstrap_external>\", line 728 in exec_module\n",
      "  File \"<frozen importlib._bootstrap>\", line 677 in _load_unlocked\n",
      "  File \"<frozen importlib._bootstrap>\", line 967 in _find_and_load_unlocked\n",
      "  File \"<frozen importlib._bootstrap>\", line 983 in _find_and_load\n",
      "  File \"C:\\Users\\alexb\\research\\WEC-GRID\\src\\wecgrid\\engine.py\", line 14 in <module>\n",
      "  File \"<frozen importlib._bootstrap>\", line 219 in _call_with_frames_removed\n",
      "  File \"<frozen importlib._bootstrap_external>\", line 728 in exec_module\n",
      "  File \"<frozen importlib._bootstrap>\", line 677 in _load_unlocked\n",
      "  File \"<frozen importlib._bootstrap>\", line 967 in _find_and_load_unlocked\n",
      "  File \"<frozen importlib._bootstrap>\", line 983 in _find_and_load\n",
      "  File \"C:\\Users\\alexb\\research\\WEC-GRID\\src\\wecgrid\\__init__.py\", line 10 in <module>\n",
      "  File \"<frozen importlib._bootstrap>\", line 219 in _call_with_frames_removed\n",
      "  File \"<frozen importlib._bootstrap_external>\", line 728 in exec_module\n",
      "  File \"<frozen importlib._bootstrap>\", line 677 in _load_unlocked\n",
      "  File \"<frozen importlib._bootstrap>\", line 967 in _find_and_load_unlocked\n",
      "  File \"<frozen importlib._bootstrap>\", line 983 in _find_and_load\n",
      "  File \"c:\\Users\\alexb\\research\\WEC-GRID\\test\\test_wecsim.py\", line 8 in test_wecsim\n",
      "  File \"C:\\Users\\alexb\\miniconda3\\envs\\happy\\lib\\site-packages\\_pytest\\python.py\", line 192 in pytest_pyfunc_call\n",
      "  File \"C:\\Users\\alexb\\miniconda3\\envs\\happy\\lib\\site-packages\\pluggy\\_callers.py\", line 39 in _multicall\n",
      "  File \"C:\\Users\\alexb\\miniconda3\\envs\\happy\\lib\\site-packages\\pluggy\\_manager.py\", line 80 in _hookexec\n",
      "  File \"C:\\Users\\alexb\\miniconda3\\envs\\happy\\lib\\site-packages\\pluggy\\_hooks.py\", line 265 in __call__\n",
      "  File \"C:\\Users\\alexb\\miniconda3\\envs\\happy\\lib\\site-packages\\_pytest\\python.py\", line 1761 in runtest\n",
      "  File \"C:\\Users\\alexb\\miniconda3\\envs\\happy\\lib\\site-packages\\_pytest\\runner.py\", line 166 in pytest_runtest_call\n",
      "  File \"C:\\Users\\alexb\\miniconda3\\envs\\happy\\lib\\site-packages\\pluggy\\_callers.py\", line 39 in _multicall\n",
      "  File \"C:\\Users\\alexb\\miniconda3\\envs\\happy\\lib\\site-packages\\pluggy\\_manager.py\", line 80 in _hookexec\n",
      "  File \"C:\\Users\\alexb\\miniconda3\\envs\\happy\\lib\\site-packages\\pluggy\\_hooks.py\", line 265 in __call__\n",
      "  File \"C:\\Users\\alexb\\miniconda3\\envs\\happy\\lib\\site-packages\\_pytest\\runner.py\", line 259 in <lambda>\n",
      "  File \"C:\\Users\\alexb\\miniconda3\\envs\\happy\\lib\\site-packages\\_pytest\\runner.py\", line 338 in from_call\n",
      "  File \"C:\\Users\\alexb\\miniconda3\\envs\\happy\\lib\\site-packages\\_pytest\\runner.py\", line 259 in call_runtest_hook\n",
      "  File \"C:\\Users\\alexb\\miniconda3\\envs\\happy\\lib\\site-packages\\_pytest\\runner.py\", line 219 in call_and_report\n",
      "  File \"C:\\Users\\alexb\\miniconda3\\envs\\happy\\lib\\site-packages\\_pytest\\runner.py\", line 130 in runtestprotocol\n",
      "  File \"C:\\Users\\alexb\\miniconda3\\envs\\happy\\lib\\site-packages\\_pytest\\runner.py\", line 111 in pytest_runtest_protocol\n",
      "  File \"C:\\Users\\alexb\\miniconda3\\envs\\happy\\lib\\site-packages\\pluggy\\_callers.py\", line 39 in _multicall\n",
      "  File \"C:\\Users\\alexb\\miniconda3\\envs\\happy\\lib\\site-packages\\pluggy\\_manager.py\", line 80 in _hookexec\n",
      "  File \"C:\\Users\\alexb\\miniconda3\\envs\\happy\\lib\\site-packages\\pluggy\\_hooks.py\", line 265 in __call__\n",
      "  File \"C:\\Users\\alexb\\miniconda3\\envs\\happy\\lib\\site-packages\\_pytest\\main.py\", line 347 in pytest_runtestloop\n",
      "  File \"C:\\Users\\alexb\\miniconda3\\envs\\happy\\lib\\site-packages\\pluggy\\_callers.py\", line 39 in _multicall\n",
      "  File \"C:\\Users\\alexb\\miniconda3\\envs\\happy\\lib\\site-packages\\pluggy\\_manager.py\", line 80 in _hookexec\n",
      "  File \"C:\\Users\\alexb\\miniconda3\\envs\\happy\\lib\\site-packages\\pluggy\\_hooks.py\", line 265 in __call__\n",
      "  File \"C:\\Users\\alexb\\miniconda3\\envs\\happy\\lib\\site-packages\\_pytest\\main.py\", line 322 in _main\n",
      "  File \"C:\\Users\\alexb\\miniconda3\\envs\\happy\\lib\\site-packages\\_pytest\\main.py\", line 268 in wrap_session\n",
      "  File \"C:\\Users\\alexb\\miniconda3\\envs\\happy\\lib\\site-packages\\_pytest\\main.py\", line 315 in pytest_cmdline_main\n",
      "  File \"C:\\Users\\alexb\\miniconda3\\envs\\happy\\lib\\site-packages\\pluggy\\_callers.py\", line 39 in _multicall\n",
      "  File \"C:\\Users\\alexb\\miniconda3\\envs\\happy\\lib\\site-packages\\pluggy\\_manager.py\", line 80 in _hookexec\n",
      "  File \"C:\\Users\\alexb\\miniconda3\\envs\\happy\\lib\\site-packages\\pluggy\\_hooks.py\", line 265 in __call__\n",
      "  ...\n"
     ]
    }
   ],
   "source": [
    "!pytest ../test/test_wecsim.py -v "
   ]
  },
  {
   "cell_type": "markdown",
   "id": "139fb962",
   "metadata": {},
   "source": [
    "---"
   ]
  },
  {
   "cell_type": "markdown",
   "id": "e21655dd",
   "metadata": {},
   "source": [
    "## 4. PSS/E Configuration\n",
    "if you are using PSSE, the API set-up should be easy thanks to the pssepath package found [here](https://new.siemens.com/global/en/products/energy/services/transmission-distribution-smart-grid/consulting-and-planning/pss-software/pss-e.html). This package automatically applies the PSS/E path to python. If you encounter any issues, refer to the psspy forums here: [psspy forums](https://www.psspy.com/forums/).\n",
    "\n",
    "example code:\n",
    "```python\n",
    "import pssepath\n",
    "pssepath.add_pssepath()\n",
    "import psspy\n",
    "psspy.psseinit(50)\n",
    "```"
   ]
  },
  {
   "cell_type": "markdown",
   "id": "927b176c",
   "metadata": {},
   "source": [
    "### 4.1 PSS/E test "
   ]
  },
  {
   "cell_type": "code",
   "execution_count": 8,
   "id": "b934a0b2",
   "metadata": {},
   "outputs": [
    {
     "name": "stdout",
     "output_type": "stream",
     "text": [
      "============================= test session starts =============================\n",
      "platform win32 -- Python 3.7.1, pytest-7.1.2, pluggy-1.0.0 -- C:\\Users\\alexb\\miniconda3\\envs\\happy\\python.exe\n",
      "cachedir: .pytest_cache\n",
      "rootdir: c:\\Users\\alexb\\research\\WEC-GRID, configfile: pytest.ini\n",
      "plugins: anyio-3.5.0, dash-2.18.2, cov-3.0.0, mock-3.10.0\n",
      "collecting ... collected 1 item\n",
      "\n",
      "..\\test\\test_psse.py::test_psse PASSED                                   [100%]\n",
      "\n",
      "============================== 1 passed in 1.04s ==============================\n"
     ]
    }
   ],
   "source": [
    "!pytest ../test/test_psse.py -v "
   ]
  },
  {
   "cell_type": "code",
   "execution_count": null,
   "id": "97b1363e",
   "metadata": {},
   "outputs": [],
   "source": []
  }
 ],
 "metadata": {
  "kernelspec": {
   "display_name": "wecgrid_env (3.7.0)",
   "language": "python",
   "name": "python3"
  },
  "language_info": {
   "codemirror_mode": {
    "name": "ipython",
    "version": 3
   },
   "file_extension": ".py",
   "mimetype": "text/x-python",
   "name": "python",
   "nbconvert_exporter": "python",
   "pygments_lexer": "ipython3",
   "version": "3.9.7"
  }
 },
 "nbformat": 4,
 "nbformat_minor": 5
}
