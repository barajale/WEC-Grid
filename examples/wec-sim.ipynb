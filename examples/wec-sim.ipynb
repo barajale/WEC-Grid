{
 "cells": [
  {
   "cell_type": "code",
   "execution_count": null,
   "id": "3b96f136",
   "metadata": {},
   "outputs": [],
   "source": [
    "# Run wec-sim"
   ]
  },
  {
   "cell_type": "code",
   "execution_count": null,
   "metadata": {},
   "outputs": [],
   "source": [
    "import os\n",
    "import random\n",
    "import wecgrid\n",
    "\n",
    "engine = wecgrid.Engine()"
   ]
  },
  {
   "cell_type": "code",
   "execution_count": null,
   "id": "aefc1baf",
   "metadata": {},
   "outputs": [],
   "source": [
    "# make sure you're matlab python API is set up"
   ]
  },
  {
   "cell_type": "code",
   "execution_count": null,
   "metadata": {},
   "outputs": [],
   "source": []
  },
  {
   "cell_type": "code",
   "execution_count": 4,
   "metadata": {},
   "outputs": [
    {
     "ename": "SyntaxError",
     "evalue": "invalid syntax (4022937657.py, line 3)",
     "output_type": "error",
     "traceback": [
      "\u001b[1;36m  File \u001b[1;32m\"C:\\Users\\alexb\\AppData\\Local\\Temp\\ipykernel_2148\\4022937657.py\"\u001b[1;36m, line \u001b[1;32m3\u001b[0m\n\u001b[1;33m    github - https://github.com/WEC-Sim/WEC-Sim\u001b[0m\n\u001b[1;37m                    ^\u001b[0m\n\u001b[1;31mSyntaxError\u001b[0m\u001b[1;31m:\u001b[0m invalid syntax\n"
     ]
    }
   ],
   "source": [
    "# setting WEC-SIM path \n",
    "\n",
    "github - https://github.com/WEC-Sim/WEC-Sim\n",
    "\n",
    "documenation page - https://wec-sim.github.io/WEC-Sim/main/index.html\n",
    "\n",
    "install guide - https://wec-sim.github.io/WEC-Sim/main/user/getting_started.html\n",
    "\n",
    "\n",
    "you\n",
    "\n",
    "\n",
    "\n",
    "engine.wec_sim.set_wec_sim_path(\"path/to/WEC-Sim/\")"
   ]
  },
  {
   "cell_type": "code",
   "execution_count": null,
   "id": "6fc8feeb",
   "metadata": {},
   "outputs": [],
   "source": [
    "# Run WEC-Sim simulation of the LUPA wave energy model \n",
    "engine.wec_sim(\n",
    "    model_path=f\"{os.getcwd()}/../data/wec_models/RM3\",\n",
    "    sim_length=3600 * 24,  # 24 hours\n",
    "    delta_time=0.1,\n",
    "    spectrum_type='PM',\n",
    "    wave_class='irregular',\n",
    "    wave_height=2.5,\n",
    "    wave_period=8.0,\n",
    "    wave_seed = random.randint(1, 100),\n",
    ")"
   ]
  }
 ],
 "metadata": {
  "kernelspec": {
   "display_name": "happy",
   "language": "python",
   "name": "python3"
  },
  "language_info": {
   "codemirror_mode": {
    "name": "ipython",
    "version": 3
   },
   "file_extension": ".py",
   "mimetype": "text/x-python",
   "name": "python",
   "nbconvert_exporter": "python",
   "pygments_lexer": "ipython3",
   "version": "3.7.1"
  }
 },
 "nbformat": 4,
 "nbformat_minor": 5
}
