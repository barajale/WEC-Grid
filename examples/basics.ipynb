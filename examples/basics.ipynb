{
 "cells": [
  {
   "cell_type": "code",
   "execution_count": null,
   "id": "7aa54d05",
   "metadata": {},
   "outputs": [],
   "source": [
    "# here talk about setting up database, wec-sim, setting paths, etc."
   ]
  },
  {
   "cell_type": "code",
   "execution_count": null,
   "id": "30fe0d42",
   "metadata": {},
   "outputs": [],
   "source": [
    "import os\n",
    "import wecgrid\n",
    "\n",
    "engine = wecgrid.Engine()"
   ]
  },
  {
   "cell_type": "code",
   "execution_count": null,
   "id": "a6728c8b",
   "metadata": {},
   "outputs": [],
   "source": [
    "# point WEC-Grid to an exist database\n",
    "engine.database.set_database_path(r\"path/to/database.db\")"
   ]
  },
  {
   "cell_type": "code",
   "execution_count": null,
   "id": "ee0c63d3",
   "metadata": {},
   "outputs": [],
   "source": [
    "# Create an empty database\n",
    "engine.database.initialize_database(r\"path/to/new/database.db\")\n"
   ]
  },
  {
   "cell_type": "code",
   "execution_count": null,
   "id": "ef5513aa",
   "metadata": {},
   "outputs": [],
   "source": []
  },
  {
   "cell_type": "code",
   "execution_count": null,
   "metadata": {},
   "outputs": [],
   "source": [
    "# accesss WEC-Sim Runner\n",
    "engine.wec_sim"
   ]
  },
  {
   "cell_type": "code",
   "execution_count": null,
   "id": "a2b2b6ce",
   "metadata": {},
   "outputs": [],
   "source": [
    "# setting WEC-Sim path\n",
    "\n",
    "engine.wec_sim.set_wec_sim_path(r\"path/to/wec-sim\")"
   ]
  },
  {
   "cell_type": "code",
   "execution_count": null,
   "id": "78081fc6",
   "metadata": {},
   "outputs": [],
   "source": [
    "# access Power system modeler\n",
    "engine.psse \n",
    "\n",
    "engine.pypsa"
   ]
  },
  {
   "cell_type": "code",
   "execution_count": null,
   "id": "48c8565f",
   "metadata": {},
   "outputs": [],
   "source": [
    "# access the grid data of Power system modeler\n",
    "\n",
    "engine.psse.bus # quickes way to check stuff \n",
    "\n",
    "psseGrid = engine.psse.grid\n",
    "\n",
    "psseGrid.bus # lastest snapshot data \n",
    "\n",
    "psseGrid.bus_t # time series dict\n",
    "\n",
    "psseGrid.bus_t.p # access active power time series \n",
    "\n",
    "pypsaGrid = engine.pypsa.grid\n",
    "\n",
    "pypsaGrid.gen # lastest snapshot data \n",
    "\n",
    "pypsaGrid.gen_t # time series dict\n",
    "\n",
    "pypsaGrid.gen_t.p # access active power time series \n",
    "\n"
   ]
  },
  {
   "cell_type": "code",
   "execution_count": null,
   "metadata": {},
   "outputs": [],
   "source": []
  },
  {
   "cell_type": "code",
   "execution_count": null,
   "metadata": {},
   "outputs": [],
   "source": []
  },
  {
   "cell_type": "code",
   "execution_count": null,
   "id": "7902ccab",
   "metadata": {},
   "outputs": [],
   "source": []
  }
 ],
 "metadata": {
  "language_info": {
   "name": "python"
  }
 },
 "nbformat": 4,
 "nbformat_minor": 5
}
