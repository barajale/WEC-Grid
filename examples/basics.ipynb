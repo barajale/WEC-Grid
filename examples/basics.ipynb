{
 "cells": [
  {
   "cell_type": "markdown",
   "id": "76dfed17",
   "metadata": {},
   "source": [
    "# WEC-GRID Examples\n",
    "\n",
    "This notebook has been simplified. For detailed examples of WEC-GRID functionality, please see:\n",
    "\n",
    "- **example1.ipynb** - Basic grid simulation and plotting\n",
    "- **example2.ipynb** - WEC integration and time series analysis  \n",
    "- **example3.ipynb** - Advanced analysis and custom scenarios\n",
    "- **comparison.ipynb** - Backend comparison (PSS®E vs PyPSA)\n",
    "- **wec-sim.ipynb** - WEC-Sim integration examples\n",
    "\n",
    "Each example notebook demonstrates specific WEC-GRID capabilities with working code examples."
   ]
  }
 ],
 "metadata": {
  "language_info": {
   "name": "python"
  }
 },
 "nbformat": 4,
 "nbformat_minor": 5
}
