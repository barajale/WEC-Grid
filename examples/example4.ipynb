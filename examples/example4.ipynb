{
 "cells": [
  {
   "cell_type": "code",
   "execution_count": 1,
   "id": "05315f34",
   "metadata": {},
   "outputs": [
    {
     "name": "stderr",
     "output_type": "stream",
     "text": [
      "C:\\Users\\PDC-user\\alexb\\WEC-Grid\\src\\wecgrid\\modelers\\power_system\\base.py:316: PerformanceWarning: DataFrame is highly fragmented.  This is usually the result of calling `frame.insert` many times, which has poor performance.  Consider joining all columns at once using pd.concat(axis=1) instead.  To get a de-fragmented frame, use `newframe = frame.copy()`\n",
      "  tdf[col] = pd.NA\n"
     ]
    },
    {
     "name": "stdout",
     "output_type": "stream",
     "text": [
      "PyPSA software initialized\n",
      "[ERROR] Powerflow not solved.\n",
      "  PSS®E Error Code 4: Bus type code and series element status inconsistencies\n",
      "  Convergence Status 9: Solution not attempted\n",
      "Powerflow solution failed.\n"
     ]
    }
   ],
   "source": [
    "import os\n",
    "import wecgrid\n",
    "\n",
    "engine = wecgrid.Engine()\n",
    "\n",
    "engine.case(\"./grid/IEEE_300_bus.raw\")\n",
    "engine.load([\"pypsa\",\"psse\"])"
   ]
  },
  {
   "cell_type": "code",
   "execution_count": null,
   "id": "5a8f21c4",
   "metadata": {},
   "outputs": [],
   "source": []
  }
 ],
 "metadata": {
  "kernelspec": {
   "display_name": "wecgrid_env",
   "language": "python",
   "name": "python3"
  },
  "language_info": {
   "codemirror_mode": {
    "name": "ipython",
    "version": 3
   },
   "file_extension": ".py",
   "mimetype": "text/x-python",
   "name": "python",
   "nbconvert_exporter": "python",
   "pygments_lexer": "ipython3",
   "version": "3.9.7"
  }
 },
 "nbformat": 4,
 "nbformat_minor": 5
}
