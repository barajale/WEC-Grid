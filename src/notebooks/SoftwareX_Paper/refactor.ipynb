{
 "cells": [
  {
   "cell_type": "code",
   "execution_count": null,
   "id": "9fec189e",
   "metadata": {},
   "outputs": [],
   "source": [
    "import wecgrid\n",
    "engine = wecgrid.Engine(\"./IEEE_30_bus.RAW\")\n",
    "#engine.load([\"psse\",\"pypsa\"])"
   ]
  }
 ],
 "metadata": {
  "kernelspec": {
   "display_name": "happy",
   "language": "python",
   "name": "python3"
  },
  "language_info": {
   "codemirror_mode": {
    "name": "ipython",
    "version": 3
   },
   "file_extension": ".py",
   "mimetype": "text/x-python",
   "name": "python",
   "nbconvert_exporter": "python",
   "pygments_lexer": "ipython3",
   "version": "3.7.1"
  }
 },
 "nbformat": 4,
 "nbformat_minor": 5
}
