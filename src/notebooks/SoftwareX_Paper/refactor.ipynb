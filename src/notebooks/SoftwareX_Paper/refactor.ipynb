{
 "cells": [
  {
   "cell_type": "code",
   "execution_count": 1,
   "id": "9fec189e",
   "metadata": {},
   "outputs": [
    {
     "name": "stdout",
     "output_type": "stream",
     "text": [
      "PSS®E software initialized\n"
     ]
    }
   ],
   "source": [
    "import wecgrid\n",
    "engine = wecgrid.Engine()\n",
    "engine.case(\"IEEE30\")\n",
    "engine.load([\"psse\"]) "
   ]
  },
  {
   "cell_type": "code",
   "execution_count": 2,
   "id": "ca889c7b",
   "metadata": {},
   "outputs": [
    {
     "name": "stdout",
     "output_type": "stream",
     "text": [
      "Starting MATLAB engine...\n",
      "MATLAB engine started and WEC-SIM path added...\n",
      "WEC-SIM complete: model=RM3, ID=1738\n",
      "MATLAB engine stopped.\n"
     ]
    },
    {
     "data": {
      "text/plain": [
       "True"
      ]
     },
     "execution_count": 2,
     "metadata": {},
     "output_type": "execute_result"
    }
   ],
   "source": [
    "engine.wec_sim(wec_id=1738, model=\"RM3\")"
   ]
  },
  {
   "cell_type": "code",
   "execution_count": null,
   "id": "a637cc27",
   "metadata": {},
   "outputs": [],
   "source": []
  }
 ],
 "metadata": {
  "kernelspec": {
   "display_name": "happy",
   "language": "python",
   "name": "python3"
  },
  "language_info": {
   "codemirror_mode": {
    "name": "ipython",
    "version": 3
   },
   "file_extension": ".py",
   "mimetype": "text/x-python",
   "name": "python",
   "nbconvert_exporter": "python",
   "pygments_lexer": "ipython3",
   "version": "3.7.1"
  }
 },
 "nbformat": 4,
 "nbformat_minor": 5
}
