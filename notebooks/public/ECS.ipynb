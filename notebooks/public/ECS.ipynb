{
 "cells": [
  {
   "cell_type": "code",
   "execution_count": 8,
   "id": "9c3e83e7",
   "metadata": {
    "ExecuteTime": {
     "end_time": "2025-04-23T22:01:53.277745Z",
     "start_time": "2025-04-23T22:01:53.266131Z"
    }
   },
   "outputs": [],
   "source": [
    "import matplotlib.pyplot as plt\n",
    "import numpy as np\n",
    "import pandas as pd"
   ]
  },
  {
   "cell_type": "code",
   "execution_count": 9,
   "id": "1c9b85b3",
   "metadata": {
    "ExecuteTime": {
     "end_time": "2025-04-23T22:02:10.418755Z",
     "start_time": "2025-04-23T22:01:57.454319Z"
    }
   },
   "outputs": [
    {
     "name": "stdout",
     "output_type": "stream",
     "text": [
      "[Snapshot] t=1745445717.54, note={}\n",
      "PSSE initialized with case file: IEEE_24_bus.RAW.\n"
     ]
    },
    {
     "name": "stderr",
     "output_type": "stream",
     "text": [
      "WARNING:pypsa.io:Warning: Note that when importing from PYPOWER, some PYPOWER features not supported: areas, gencosts, component status\n",
      "WARNING:pypsa.io:Warning, some transformers have a tap ratio of 0., setting the tap ratio of these to 1.\n",
      "INFO:pypsa.pf:Performing non-linear load-flow on AC sub-network SubNetwork 0 for snapshots DatetimeIndex(['2025-04-23 15:01:57.544844'], dtype='datetime64[ns]', name='snapshot', freq=None)\n",
      "INFO:pypsa.pf:Newton-Raphson solved in 4 iterations with error of 0.000000 in 0.073049 seconds\n"
     ]
    },
    {
     "name": "stdout",
     "output_type": "stream",
     "text": [
      "pyPSA initialized\n",
      "PyPSA initialized with case file: IEEE_24_bus.RAW.\n"
     ]
    }
   ],
   "source": [
    "from WecGrid import WecGrid\n",
    "wec_grid = WecGrid(case=\"./IEEE_24_bus.RAW\")\n",
    "wec_grid.initialize_psse(\"fnsl\")\n",
    "wec_grid.initialize_pypsa(\"fnsl\")"
   ]
  },
  {
   "cell_type": "code",
   "execution_count": null,
   "id": "6145fe70",
   "metadata": {
    "ExecuteTime": {
     "start_time": "2025-04-23T21:57:27.895Z"
    }
   },
   "outputs": [],
   "source": [
    "config = {\n",
    "    \"simLength\": 60 * 60 * 12,  # Simulation length of 12 hours\n",
    "    \"Tsample\": 300,            # Sampling time of 5 minutes\n",
    "    \"waveHeight\": 2.5,         # Wave height in meters\n",
    "    \"wavePeriod\": 8,           # Wave period in seconds\n",
    "}\n",
    "wec_grid.create_wec(ID=60,\n",
    "                    model=\"RM3\", \n",
    "                    farm_size=8, \n",
    "                    from_bus=7, \n",
    "                    to_bus=25, \n",
    "                    mbase= 1.0, # Sbase 100 MVA\n",
    "                    config=config) "
   ]
  },
  {
   "cell_type": "code",
   "execution_count": null,
   "id": "83575e20",
   "metadata": {
    "ExecuteTime": {
     "start_time": "2025-04-23T21:57:28.473Z"
    }
   },
   "outputs": [],
   "source": [
    "wec_grid.psseObj.sld()"
   ]
  },
  {
   "cell_type": "code",
   "execution_count": null,
   "id": "36e98f5f",
   "metadata": {
    "ExecuteTime": {
     "start_time": "2025-04-23T21:57:29.175Z"
    }
   },
   "outputs": [],
   "source": [
    "wec_grid.generate_load_curve()"
   ]
  },
  {
   "cell_type": "code",
   "execution_count": null,
   "id": "97e6d3c1",
   "metadata": {
    "ExecuteTime": {
     "start_time": "2025-04-23T21:57:29.469Z"
    }
   },
   "outputs": [],
   "source": [
    "wec_grid.psseObj.ac_injection()"
   ]
  },
  {
   "cell_type": "code",
   "execution_count": null,
   "id": "4d33e3d0",
   "metadata": {
    "ExecuteTime": {
     "start_time": "2025-04-23T21:57:30.510Z"
    }
   },
   "outputs": [],
   "source": [
    "wec_grid.pypsaObj.ac_injection()"
   ]
  },
  {
   "cell_type": "code",
   "execution_count": null,
   "id": "a055c9e0",
   "metadata": {
    "ExecuteTime": {
     "start_time": "2025-04-23T21:57:31.902Z"
    }
   },
   "outputs": [],
   "source": [
    "'''\n",
    "    Access the pyPSA original object \n",
    "'''\n",
    "wec_grid.pypsaObj.pypsa_object"
   ]
  },
  {
   "cell_type": "code",
   "execution_count": 2,
   "id": "d463fe2a",
   "metadata": {},
   "outputs": [
    {
     "ename": "NameError",
     "evalue": "name 'wec_grid' is not defined",
     "output_type": "error",
     "traceback": [
      "\u001b[1;31m---------------------------------------------------------------------------\u001b[0m",
      "\u001b[1;31mNameError\u001b[0m                                 Traceback (most recent call last)",
      "\u001b[1;32m~\\AppData\\Local\\Temp\\ipykernel_10628\\3663811987.py\u001b[0m in \u001b[0;36m<module>\u001b[1;34m\u001b[0m\n\u001b[1;32m----> 1\u001b[1;33m \u001b[0mwec_grid\u001b[0m\u001b[1;33m.\u001b[0m\u001b[0mpsseObj\u001b[0m\u001b[1;33m\u001b[0m\u001b[1;33m\u001b[0m\u001b[0m\n\u001b[0m",
      "\u001b[1;31mNameError\u001b[0m: name 'wec_grid' is not defined"
     ]
    }
   ],
   "source": [
    "wec_grid.psseObj"
   ]
  },
  {
   "cell_type": "code",
   "execution_count": null,
   "id": "64e59f82",
   "metadata": {},
   "outputs": [],
   "source": []
  }
 ],
 "metadata": {
  "kernelspec": {
   "display_name": "Python 3 (ipykernel)",
   "language": "python",
   "name": "python3"
  },
  "language_info": {
   "codemirror_mode": {
    "name": "ipython",
    "version": 3
   },
   "file_extension": ".py",
   "mimetype": "text/x-python",
   "name": "python",
   "nbconvert_exporter": "python",
   "pygments_lexer": "ipython3",
   "version": "3.7.1"
  },
  "toc": {
   "base_numbering": 1,
   "nav_menu": {},
   "number_sections": true,
   "sideBar": false,
   "skip_h1_title": false,
   "title_cell": "Table of Contents",
   "title_sidebar": "Contents",
   "toc_cell": false,
   "toc_position": {},
   "toc_section_display": true,
   "toc_window_display": false
  }
 },
 "nbformat": 4,
 "nbformat_minor": 5
}
