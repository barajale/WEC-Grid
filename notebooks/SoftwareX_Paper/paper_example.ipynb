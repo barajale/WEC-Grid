{
 "cells": [
  {
   "cell_type": "code",
   "execution_count": 1,
   "id": "34a04eb7",
   "metadata": {},
   "outputs": [
    {
     "name": "stdout",
     "output_type": "stream",
     "text": [
      "    Sets PSSE environment to latest minor version among installed versions of PSSE 35.\n",
      "    Use psse35.set_minor(n) to set PSSE35 minor version (n) to use.\n",
      "        Example, for PSSE 35.0.x, use this as: psse35.set_minor(0)\n",
      "\n",
      " PSS(R)E Xplore Version 35\n",
      " Copyright (c) 1976-2025\n",
      " Siemens Industry, Inc.,\n",
      " Power Technologies International                            (PTI)\n",
      " This program is a confidential  unpublished  work  created  and  first\n",
      " licensed in 1976.  It is a trade secret which is the property of  PTI.\n",
      " All use,  disclosure,  and/or reproduction not specifically authorized\n",
      " by  PTI  is prohibited.   This  program is protected  under  copyright\n",
      " laws  of  non-U.S.  countries  and  by  application  of  international\n",
      " treaties.  All  Rights  Reserved  Under  The  Copyright  Laws.\n",
      "\n",
      "\n",
      "           SIEMENS POWER TECHNOLOGIES INTERNATIONAL\n",
      "\n",
      "    50 BUS POWER SYSTEM SIMULATOR--PSS(R)E Xplore-35.3.2\n",
      "\n",
      "             INITIATED ON SUN, MAY 11 2025  18:13\n",
      "Initialized: PSSE with case IEEE_30_bus.RAW\n"
     ]
    }
   ],
   "source": [
    "import WECGrid\n",
    "\n",
    "engine = WECGrid.Engine(\"./IEEE_30_bus.RAW\")\n",
    "\n",
    "engine.use([\"psse\"])\n"
   ]
  },
  {
   "cell_type": "code",
   "execution_count": 3,
   "metadata": {},
   "outputs": [
    {
     "ename": "AttributeError",
     "evalue": "'PSSEInterface' object has no attribute 'add_wec'",
     "output_type": "error",
     "traceback": [
      "\u001b[1;31m---------------------------------------------------------------------------\u001b[0m",
      "\u001b[1;31mAttributeError\u001b[0m                            Traceback (most recent call last)",
      "\u001b[1;32m~\\AppData\\Local\\Temp\\ipykernel_12656\\624104268.py\u001b[0m in \u001b[0;36m<module>\u001b[1;34m\u001b[0m\n\u001b[0;32m      5\u001b[0m     \u001b[1;34m\"wavePeriod\"\u001b[0m\u001b[1;33m:\u001b[0m \u001b[1;36m8\u001b[0m\u001b[1;33m,\u001b[0m           \u001b[1;31m# Wave period in seconds\u001b[0m\u001b[1;33m\u001b[0m\u001b[1;33m\u001b[0m\u001b[0m\n\u001b[0;32m      6\u001b[0m }\n\u001b[1;32m----> 7\u001b[1;33m \u001b[0mengine\u001b[0m\u001b[1;33m.\u001b[0m\u001b[0mcreate_wec\u001b[0m\u001b[1;33m(\u001b[0m\u001b[0mID\u001b[0m\u001b[1;33m=\u001b[0m\u001b[1;36m60\u001b[0m\u001b[1;33m,\u001b[0m \u001b[0mmodel\u001b[0m\u001b[1;33m=\u001b[0m\u001b[1;34m\"RM3\"\u001b[0m\u001b[1;33m,\u001b[0m \u001b[0mfarm_size\u001b[0m\u001b[1;33m=\u001b[0m\u001b[1;36m8\u001b[0m\u001b[1;33m,\u001b[0m \u001b[0mibus\u001b[0m\u001b[1;33m=\u001b[0m\u001b[1;36m31\u001b[0m\u001b[1;33m,\u001b[0m \u001b[0mjbus\u001b[0m\u001b[1;33m=\u001b[0m\u001b[1;36m1\u001b[0m\u001b[1;33m,\u001b[0m \u001b[0mmbase\u001b[0m\u001b[1;33m=\u001b[0m \u001b[1;36m1.0\u001b[0m\u001b[1;33m,\u001b[0m \u001b[0mconfig\u001b[0m\u001b[1;33m=\u001b[0m\u001b[0mconfig\u001b[0m\u001b[1;33m)\u001b[0m\u001b[1;33m\u001b[0m\u001b[1;33m\u001b[0m\u001b[0m\n\u001b[0m",
      "\u001b[1;32mc:\\users\\alexb\\research\\wec-grid\\WECGrid\\core.py\u001b[0m in \u001b[0;36mcreate_wec\u001b[1;34m(self, ID, model, farm_size, ibus, jbus, run_sim, mbase, config)\u001b[0m\n\u001b[0;32m    114\u001b[0m \u001b[1;33m\u001b[0m\u001b[0m\n\u001b[0;32m    115\u001b[0m         \u001b[1;32mif\u001b[0m \u001b[0mself\u001b[0m\u001b[1;33m.\u001b[0m\u001b[0mpsse\u001b[0m \u001b[1;32mis\u001b[0m \u001b[1;32mnot\u001b[0m \u001b[1;32mNone\u001b[0m\u001b[1;33m:\u001b[0m\u001b[1;33m\u001b[0m\u001b[1;33m\u001b[0m\u001b[0m\n\u001b[1;32m--> 116\u001b[1;33m             \u001b[0mself\u001b[0m\u001b[1;33m.\u001b[0m\u001b[0mpsse\u001b[0m\u001b[1;33m.\u001b[0m\u001b[0madd_wec\u001b[0m\u001b[1;33m(\u001b[0m\u001b[0mmodel\u001b[0m\u001b[1;33m,\u001b[0m \u001b[0mibus\u001b[0m\u001b[1;33m,\u001b[0m \u001b[0mjbus\u001b[0m\u001b[1;33m)\u001b[0m\u001b[1;33m\u001b[0m\u001b[1;33m\u001b[0m\u001b[0m\n\u001b[0m\u001b[0;32m    117\u001b[0m \u001b[1;33m\u001b[0m\u001b[0m\n",
      "\u001b[1;31mAttributeError\u001b[0m: 'PSSEInterface' object has no attribute 'add_wec'"
     ]
    }
   ],
   "source": [
    "config = {\n",
    "    \"simLength\": 60 * 60 * 12,  # Simulation length of 12 hours\n",
    "    \"Tsample\": 300,            # Sampling time of 5 minutes\n",
    "    \"waveHeight\": 2.5,         # Wave height in meters\n",
    "    \"wavePeriod\": 8,           # Wave period in seconds\n",
    "}\n",
    "engine.create_wec(ID=60, model=\"RM3\", farm_size=8, ibus=31, jbus=1, mbase= 1.0, config=config) \n"
   ]
  },
  {
   "cell_type": "code",
   "execution_count": null,
   "id": "3c9a1073",
   "metadata": {},
   "outputs": [],
   "source": []
  },
  {
   "cell_type": "code",
   "execution_count": null,
   "metadata": {},
   "outputs": [],
   "source": []
  },
  {
   "cell_type": "code",
   "execution_count": 1,
   "id": "633804cb",
   "metadata": {},
   "outputs": [
    {
     "name": "stdout",
     "output_type": "stream",
     "text": [
      "    Sets PSSE environment to latest minor version among installed versions of PSSE 35.\n",
      "    Use psse35.set_minor(n) to set PSSE35 minor version (n) to use.\n",
      "        Example, for PSSE 35.0.x, use this as: psse35.set_minor(0)\n",
      "\n",
      " PSS(R)E Xplore Version 35\n",
      " Copyright (c) 1976-2025\n",
      " Siemens Industry, Inc.,\n",
      " Power Technologies International                            (PTI)\n",
      " This program is a confidential  unpublished  work  created  and  first\n",
      " licensed in 1976.  It is a trade secret which is the property of  PTI.\n",
      " All use,  disclosure,  and/or reproduction not specifically authorized\n",
      " by  PTI  is prohibited.   This  program is protected  under  copyright\n",
      " laws  of  non-U.S.  countries  and  by  application  of  international\n",
      " treaties.  All  Rights  Reserved  Under  The  Copyright  Laws.\n",
      "\n",
      "\n",
      "           SIEMENS POWER TECHNOLOGIES INTERNATIONAL\n",
      "\n",
      "    50 BUS POWER SYSTEM SIMULATOR--PSS(R)E Xplore-35.3.2\n",
      "\n",
      "             INITIATED ON FRI, MAY 09 2025  13:40\n",
      "not a valid solver\n",
      "[Snapshot] t=1746823234.57, note={}\n",
      "PSSE initialized with case file: IEEE_30_bus.RAW.\n"
     ]
    },
    {
     "name": "stderr",
     "output_type": "stream",
     "text": [
      "case data: 0     100.00  33  0  0  60.00       \n",
      "record 1:  08/20/93 UW ARCHIVE           100.0  1961 W IEEE 30 Bus Test Case\n",
      "record 2: \n",
      "parsed 30 buses\n",
      "parsed 21 loads\n",
      "parsed 2 fixed shunts\n",
      "parsed 6 generators\n",
      "parsed 37 branches\n",
      "parsed 4 transformers\n",
      "parsed 1 areas\n",
      "parsed 0 two terminal dc lines\n",
      "parsed 0 vsc dc lines\n",
      "parsed 0 transformer corrections\n",
      "parsed 0 multi-terminal dc lines\n",
      "parsed 0 multi-section lines\n",
      "parsed 1 zones\n",
      "parsed 0 inter-area transfers\n",
      "parsed 1 owners\n",
      "parsed 0 facts devices\n",
      "parsed 0 switched shunts\n",
      "parsed 0 induction machines\n",
      "un-parsed lines:\n",
      "  Q\n",
      "\n"
     ]
    },
    {
     "ename": "ZeroDivisionError",
     "evalue": "float division by zero",
     "output_type": "error",
     "traceback": [
      "\u001b[1;31m---------------------------------------------------------------------------\u001b[0m",
      "\u001b[1;31mZeroDivisionError\u001b[0m                         Traceback (most recent call last)",
      "\u001b[1;32m~\\AppData\\Local\\Temp\\ipykernel_14280\\1540674821.py\u001b[0m in \u001b[0;36m<module>\u001b[1;34m\u001b[0m\n\u001b[0;32m      3\u001b[0m \u001b[0mwec_grid\u001b[0m \u001b[1;33m=\u001b[0m \u001b[0mWecGrid\u001b[0m\u001b[1;33m(\u001b[0m\u001b[0mcase\u001b[0m\u001b[1;33m=\u001b[0m\u001b[1;34m\"./IEEE_30_bus.RAW\"\u001b[0m\u001b[1;33m)\u001b[0m\u001b[1;33m\u001b[0m\u001b[1;33m\u001b[0m\u001b[0m\n\u001b[0;32m      4\u001b[0m \u001b[0mwec_grid\u001b[0m\u001b[1;33m.\u001b[0m\u001b[0minitialize_psse\u001b[0m\u001b[1;33m(\u001b[0m\u001b[1;33m)\u001b[0m\u001b[1;33m\u001b[0m\u001b[1;33m\u001b[0m\u001b[0m\n\u001b[1;32m----> 5\u001b[1;33m \u001b[0mwec_grid\u001b[0m\u001b[1;33m.\u001b[0m\u001b[0minitialize_pypsa\u001b[0m\u001b[1;33m(\u001b[0m\u001b[1;33m)\u001b[0m\u001b[1;33m\u001b[0m\u001b[1;33m\u001b[0m\u001b[0m\n\u001b[0m\u001b[0;32m      6\u001b[0m \u001b[1;33m\u001b[0m\u001b[0m\n\u001b[0;32m      7\u001b[0m config = {\n",
      "\u001b[1;32mc:\\users\\alexb\\research\\wec-grid\\WecGrid\\core.py\u001b[0m in \u001b[0;36minitialize_pypsa\u001b[1;34m(self, solver_args, flag)\u001b[0m\n\u001b[0;32m     93\u001b[0m             \u001b[0mself\u001b[0m\u001b[1;33m.\u001b[0m\u001b[0mpypsaObj\u001b[0m\u001b[1;33m.\u001b[0m\u001b[0minitialize_og\u001b[0m\u001b[1;33m(\u001b[0m\u001b[0msolver_args\u001b[0m\u001b[1;33m)\u001b[0m\u001b[1;33m\u001b[0m\u001b[1;33m\u001b[0m\u001b[0m\n\u001b[0;32m     94\u001b[0m         \u001b[1;32melse\u001b[0m\u001b[1;33m:\u001b[0m\u001b[1;33m\u001b[0m\u001b[1;33m\u001b[0m\u001b[0m\n\u001b[1;32m---> 95\u001b[1;33m             \u001b[0mself\u001b[0m\u001b[1;33m.\u001b[0m\u001b[0mpypsaObj\u001b[0m\u001b[1;33m.\u001b[0m\u001b[0minitialize\u001b[0m\u001b[1;33m(\u001b[0m\u001b[0msolver_args\u001b[0m\u001b[1;33m)\u001b[0m\u001b[1;33m\u001b[0m\u001b[1;33m\u001b[0m\u001b[0m\n\u001b[0m\u001b[0;32m     96\u001b[0m         print(\n\u001b[0;32m     97\u001b[0m             \u001b[1;34mf\"PyPSA initialized with case file: {self.case_file_name}.\"\u001b[0m\u001b[1;33m\u001b[0m\u001b[1;33m\u001b[0m\u001b[0m\n",
      "\u001b[1;32mc:\\users\\alexb\\research\\wec-grid\\WecGrid\\pyPSA\\pypsa_wrapper.py\u001b[0m in \u001b[0;36minitialize\u001b[1;34m(self, solver)\u001b[0m\n\u001b[0;32m    234\u001b[0m         \u001b[1;31m#     )\u001b[0m\u001b[1;33m\u001b[0m\u001b[1;33m\u001b[0m\u001b[1;33m\u001b[0m\u001b[0m\n\u001b[0;32m    235\u001b[0m \u001b[1;33m\u001b[0m\u001b[0m\n\u001b[1;32m--> 236\u001b[1;33m         \u001b[0mself\u001b[0m\u001b[1;33m.\u001b[0m\u001b[0mimport_raw_to_pypsa\u001b[0m\u001b[1;33m(\u001b[0m\u001b[1;33m)\u001b[0m\u001b[1;33m\u001b[0m\u001b[1;33m\u001b[0m\u001b[0m\n\u001b[0m\u001b[0;32m    237\u001b[0m         \u001b[1;31m# Solve power flow and format\u001b[0m\u001b[1;33m\u001b[0m\u001b[1;33m\u001b[0m\u001b[1;33m\u001b[0m\u001b[0m\n\u001b[0;32m    238\u001b[0m         \u001b[0mself\u001b[0m\u001b[1;33m.\u001b[0m\u001b[0mpypsa_object\u001b[0m\u001b[1;33m.\u001b[0m\u001b[0mpf\u001b[0m\u001b[1;33m(\u001b[0m\u001b[1;33m)\u001b[0m\u001b[1;33m\u001b[0m\u001b[1;33m\u001b[0m\u001b[0m\n",
      "\u001b[1;32mc:\\users\\alexb\\research\\wec-grid\\WecGrid\\pyPSA\\pypsa_wrapper.py\u001b[0m in \u001b[0;36mimport_raw_to_pypsa\u001b[1;34m(self)\u001b[0m\n\u001b[0;32m    293\u001b[0m             \u001b[0ms_nom\u001b[0m \u001b[1;33m=\u001b[0m \u001b[0mtx\u001b[0m\u001b[1;33m.\u001b[0m\u001b[0mw1\u001b[0m\u001b[1;33m.\u001b[0m\u001b[0mrata\u001b[0m  \u001b[1;31m# Base rating on winding 1 [MVA]\u001b[0m\u001b[1;33m\u001b[0m\u001b[1;33m\u001b[0m\u001b[0m\n\u001b[0;32m    294\u001b[0m \u001b[1;33m\u001b[0m\u001b[0m\n\u001b[1;32m--> 295\u001b[1;33m             \u001b[0mr_pu\u001b[0m \u001b[1;33m=\u001b[0m \u001b[0mtx\u001b[0m\u001b[1;33m.\u001b[0m\u001b[0mp2\u001b[0m\u001b[1;33m.\u001b[0m\u001b[0mr12\u001b[0m \u001b[1;33m*\u001b[0m \u001b[1;33m(\u001b[0m\u001b[0mtx\u001b[0m\u001b[1;33m.\u001b[0m\u001b[0mp2\u001b[0m\u001b[1;33m.\u001b[0m\u001b[0msbase12\u001b[0m \u001b[1;33m/\u001b[0m \u001b[0ms_nom\u001b[0m\u001b[1;33m)\u001b[0m\u001b[1;33m\u001b[0m\u001b[1;33m\u001b[0m\u001b[0m\n\u001b[0m\u001b[0;32m    296\u001b[0m             \u001b[0mx_pu\u001b[0m \u001b[1;33m=\u001b[0m \u001b[0mtx\u001b[0m\u001b[1;33m.\u001b[0m\u001b[0mp2\u001b[0m\u001b[1;33m.\u001b[0m\u001b[0mx12\u001b[0m \u001b[1;33m*\u001b[0m \u001b[1;33m(\u001b[0m\u001b[0mtx\u001b[0m\u001b[1;33m.\u001b[0m\u001b[0mp2\u001b[0m\u001b[1;33m.\u001b[0m\u001b[0msbase12\u001b[0m \u001b[1;33m/\u001b[0m \u001b[0ms_nom\u001b[0m\u001b[1;33m)\u001b[0m\u001b[1;33m\u001b[0m\u001b[1;33m\u001b[0m\u001b[0m\n\u001b[0;32m    297\u001b[0m \u001b[1;33m\u001b[0m\u001b[0m\n",
      "\u001b[1;31mZeroDivisionError\u001b[0m: float division by zero"
     ]
    }
   ],
   "source": [
    "from WecGrid import WecGrid\n",
    "\n",
    "wec_grid = WecGrid(case=\"./IEEE_30_bus.RAW\")\n",
    "wec_grid.initialize_psse()\n",
    "wec_grid.initialize_pypsa()\n",
    "\n",
    "config = {\n",
    "    \"simLength\": 60 * 60 * 12,  # Simulation length of 12 hours\n",
    "    \"Tsample\": 300,            # Sampling time of 5 minutes\n",
    "    \"waveHeight\": 2.5,         # Wave height in meters\n",
    "    \"wavePeriod\": 8,           # Wave period in seconds\n",
    "}\n",
    "wec_grid.create_wec(ID=60, model=\"RM3\", farm_size=8, ibus=31, jbus=1, mbase= 1.0, config=config) \n",
    "\n",
    "wec_grid.psseObj.simulate(load_curve=True)\n",
    "\n",
    "wec_grid.pypsaObj.simulate(load_curve=True)"
   ]
  },
  {
   "cell_type": "code",
   "execution_count": null,
   "metadata": {},
   "outputs": [],
   "source": []
  },
  {
   "cell_type": "code",
   "execution_count": null,
   "metadata": {},
   "outputs": [],
   "source": []
  }
 ],
 "metadata": {
  "kernelspec": {
   "display_name": "happy",
   "language": "python",
   "name": "python3"
  },
  "language_info": {
   "codemirror_mode": {
    "name": "ipython",
    "version": 3
   },
   "file_extension": ".py",
   "mimetype": "text/x-python",
   "name": "python",
   "nbconvert_exporter": "python",
   "pygments_lexer": "ipython3",
   "version": "3.7.1"
  }
 },
 "nbformat": 4,
 "nbformat_minor": 5
}
